{
 "cells": [
  {
   "cell_type": "code",
   "execution_count": 23,
   "id": "e0cd8162",
   "metadata": {},
   "outputs": [],
   "source": [
    "import pandas as pd \n",
    "from sklearn.model_selection import train_test_split, GridSearchCV\n",
    "from sklearn.ensemble import RandomForestRegressor\n",
    "from sklearn.metrics import mean_squared_error\n",
    "from sklearn.preprocessing import StandardScaler\n",
    "from sklearn.pipeline import Pipeline\n",
    "from statsmodels.tsa.statespace.sarimax import SARIMAX\n",
    "from sklearn.metrics import mean_squared_error\n",
    "from math import sqrt\n",
    "from sklearn.pipeline import make_pipeline\n",
    "from sklearn.preprocessing import PolynomialFeatures"
   ]
  },
  {
   "cell_type": "markdown",
   "id": "7b6b281d",
   "metadata": {},
   "source": [
    "# Importing CSV Files"
   ]
  },
  {
   "cell_type": "code",
   "execution_count": 5,
   "id": "80daaa17",
   "metadata": {},
   "outputs": [],
   "source": [
    "df_BTC = pd.read_csv(\"BTC_Historical_11-03.csv\", index_col=0)\n",
    "df_DOGE = pd.read_csv(\"DOGE_Historical_11-03.csv\", index_col=0)\n",
    "df_XRP = pd.read_csv(\"XRP_Historical_11-03.csv\", index_col=0)\n",
    "df_ETH = pd.read_csv(\"ETH_Historical_11-03.csv\", index_col=0)\n",
    "df_UNI = pd.read_csv(\"UNI_Historical_11-03.csv\", index_col=0)"
   ]
  },
  {
   "cell_type": "markdown",
   "id": "c588dd25",
   "metadata": {},
   "source": [
    "# LINREQ"
   ]
  },
  {
   "cell_type": "code",
   "execution_count": 32,
   "id": "820c57dd",
   "metadata": {},
   "outputs": [],
   "source": [
    "# BTC"
   ]
  },
  {
   "cell_type": "code",
   "execution_count": 30,
   "id": "fa38d7b9",
   "metadata": {},
   "outputs": [
    {
     "name": "stdout",
     "output_type": "stream",
     "text": [
      "Predicted highest prices for future dates:\n",
      "2024-03-12 00:00:00: 69853.49647791797\n"
     ]
    }
   ],
   "source": [
    "degree = 2  # Degree of polynomial features\n",
    "polyreg = make_pipeline(PolynomialFeatures(degree), LinearRegression())\n",
    "\n",
    "# Features and target variable\n",
    "X = df_BTC[['Closing Price (USD)']]\n",
    "y = df_BTC['y']\n",
    "\n",
    "# Fit the model\n",
    "polyreg.fit(X, y)\n",
    "\n",
    "# Make future predictions (let's say predicting for the next 30 days)\n",
    "future_dates = pd.date_range(start='2024-03-12', periods=30, freq='D')\n",
    "last_available_data = df_BTC.iloc[-1]\n",
    "future_X = pd.DataFrame({'Closing Price (USD)': [last_available_data['Closing Price (USD)']]}, index=[future_dates[0]])\n",
    "future_y = polyreg.predict(future_X)\n",
    "\n",
    "# Print future predictions\n",
    "print(\"Predicted highest prices for future dates:\")\n",
    "for date, price in zip(future_dates, future_y):\n",
    "    print(f\"{date}: {price}\")"
   ]
  },
  {
   "cell_type": "code",
   "execution_count": 33,
   "id": "ed39c77c",
   "metadata": {},
   "outputs": [],
   "source": [
    "# DOGE"
   ]
  },
  {
   "cell_type": "code",
   "execution_count": 37,
   "id": "5c93def5",
   "metadata": {},
   "outputs": [
    {
     "name": "stdout",
     "output_type": "stream",
     "text": [
      "Predicted highest prices for future dates:\n",
      "2024-03-12 00:00:00: 0.17887508057279983\n"
     ]
    }
   ],
   "source": [
    "degree = 2\n",
    "\n",
    "# Initialize polynomial regression model\n",
    "polyreg = make_pipeline(PolynomialFeatures(degree), LinearRegression())\n",
    "\n",
    "# Features and target variable\n",
    "X = df_DOGE[['Closing Price (USD)']]\n",
    "y = df_DOGE['Highest Price (USD)']\n",
    "\n",
    "# Fit the model\n",
    "polyreg.fit(X, y)\n",
    "\n",
    "# Make future predictions (let's say predicting for the next 30 days)\n",
    "future_dates = pd.date_range(start='2024-03-12', periods=30, freq='D')\n",
    "future_X = pd.DataFrame({'Closing Price (USD)': [0.17]}, index=[future_dates[0]])\n",
    "future_y = polyreg.predict(future_X)\n",
    "\n",
    "# Print future predictions\n",
    "print(\"Predicted highest prices for future dates:\")\n",
    "for date, price in zip(future_dates, future_y):\n",
    "    print(f\"{date}: {price}\")"
   ]
  },
  {
   "cell_type": "code",
   "execution_count": 38,
   "id": "4334d080",
   "metadata": {},
   "outputs": [],
   "source": [
    "# Etherum"
   ]
  },
  {
   "cell_type": "code",
   "execution_count": 40,
   "id": "a44d3e3e",
   "metadata": {},
   "outputs": [
    {
     "name": "stdout",
     "output_type": "stream",
     "text": [
      "Predicted highest prices for future dates:\n",
      "2024-03-12 00:00:00: 3915.4894684060555\n"
     ]
    }
   ],
   "source": [
    "degree = 2\n",
    "\n",
    "# Initialize polynomial regression model\n",
    "polyreg = make_pipeline(PolynomialFeatures(degree), LinearRegression())\n",
    "\n",
    "# Features and target variable\n",
    "X = df_ETH[['Closing Price (USD)']]\n",
    "y = df_ETH['Highest Price (USD)']\n",
    "\n",
    "# Fit the model\n",
    "polyreg.fit(X, y)\n",
    "\n",
    "# Make future predictions (let's say predicting for the next 30 days)\n",
    "future_dates = pd.date_range(start='2024-03-12', periods=30, freq='D')\n",
    "future_X = pd.DataFrame({'Closing Price (USD)': [3817.03]}, index=[future_dates[0]])\n",
    "future_y = polyreg.predict(future_X)\n",
    "\n",
    "# Print future predictions\n",
    "print(\"Predicted highest prices for future dates:\")\n",
    "for date, price in zip(future_dates, future_y):\n",
    "    print(f\"{date}: {price}\")"
   ]
  },
  {
   "cell_type": "code",
   "execution_count": 41,
   "id": "ba05c609",
   "metadata": {},
   "outputs": [],
   "source": [
    "# XRP"
   ]
  },
  {
   "cell_type": "code",
   "execution_count": 44,
   "id": "56715880",
   "metadata": {},
   "outputs": [
    {
     "name": "stdout",
     "output_type": "stream",
     "text": [
      "Predicted highest prices for future dates:\n",
      "2024-03-12 00:00:00: 0.6186635649931228\n"
     ]
    }
   ],
   "source": [
    "degree = 2\n",
    "\n",
    "# Initialize polynomial regression model\n",
    "polyreg = make_pipeline(PolynomialFeatures(degree), LinearRegression())\n",
    "\n",
    "# Features and target variable\n",
    "X = df_XRP[['Closing Price (USD)']]\n",
    "y = df_XRP['Highest Price (USD)']\n",
    "\n",
    "# Fit the model\n",
    "polyreg.fit(X, y)\n",
    "\n",
    "# Make future predictions (let's say predicting for the next 30 days)\n",
    "future_dates = pd.date_range(start='2024-03-12', periods=30, freq='D')\n",
    "future_X = pd.DataFrame({'Closing Price (USD)': [0.6]}, index=[future_dates[0]])\n",
    "future_y = polyreg.predict(future_X)\n",
    "\n",
    "# Print future predictions\n",
    "print(\"Predicted highest prices for future dates:\")\n",
    "for date, price in zip(future_dates, future_y):\n",
    "    print(f\"{date}: {price}\")"
   ]
  },
  {
   "cell_type": "code",
   "execution_count": 46,
   "id": "77ba5f96",
   "metadata": {},
   "outputs": [],
   "source": [
    "# UNI"
   ]
  },
  {
   "cell_type": "code",
   "execution_count": 56,
   "id": "376d5ff0",
   "metadata": {},
   "outputs": [
    {
     "data": {
      "text/html": [
       "<div>\n",
       "<style scoped>\n",
       "    .dataframe tbody tr th:only-of-type {\n",
       "        vertical-align: middle;\n",
       "    }\n",
       "\n",
       "    .dataframe tbody tr th {\n",
       "        vertical-align: top;\n",
       "    }\n",
       "\n",
       "    .dataframe thead th {\n",
       "        text-align: right;\n",
       "    }\n",
       "</style>\n",
       "<table border=\"1\" class=\"dataframe\">\n",
       "  <thead>\n",
       "    <tr style=\"text-align: right;\">\n",
       "      <th></th>\n",
       "      <th>Opening Price (USD)</th>\n",
       "      <th>Highest Price (USD)</th>\n",
       "      <th>Lowest Price (USD)</th>\n",
       "      <th>Closing Price (USD)</th>\n",
       "      <th>5. volume</th>\n",
       "      <th>6. market cap (USD)</th>\n",
       "      <th>Difference between opening and closing</th>\n",
       "    </tr>\n",
       "  </thead>\n",
       "  <tbody>\n",
       "    <tr>\n",
       "      <th>2021-06-16</th>\n",
       "      <td>23.42</td>\n",
       "      <td>23.55</td>\n",
       "      <td>21.64</td>\n",
       "      <td>21.83</td>\n",
       "      <td>1687477.96</td>\n",
       "      <td>1687477.96</td>\n",
       "      <td>-1.59</td>\n",
       "    </tr>\n",
       "    <tr>\n",
       "      <th>2021-06-17</th>\n",
       "      <td>21.83</td>\n",
       "      <td>22.94</td>\n",
       "      <td>21.40</td>\n",
       "      <td>22.18</td>\n",
       "      <td>1443998.15</td>\n",
       "      <td>1443998.15</td>\n",
       "      <td>0.35</td>\n",
       "    </tr>\n",
       "    <tr>\n",
       "      <th>2021-06-18</th>\n",
       "      <td>22.18</td>\n",
       "      <td>22.27</td>\n",
       "      <td>19.55</td>\n",
       "      <td>20.39</td>\n",
       "      <td>2187107.79</td>\n",
       "      <td>2187107.79</td>\n",
       "      <td>-1.79</td>\n",
       "    </tr>\n",
       "    <tr>\n",
       "      <th>2021-06-19</th>\n",
       "      <td>20.40</td>\n",
       "      <td>20.98</td>\n",
       "      <td>19.75</td>\n",
       "      <td>19.76</td>\n",
       "      <td>1744280.98</td>\n",
       "      <td>1744280.98</td>\n",
       "      <td>-0.64</td>\n",
       "    </tr>\n",
       "    <tr>\n",
       "      <th>2021-06-20</th>\n",
       "      <td>19.76</td>\n",
       "      <td>21.02</td>\n",
       "      <td>18.62</td>\n",
       "      <td>20.70</td>\n",
       "      <td>2410717.38</td>\n",
       "      <td>2410717.38</td>\n",
       "      <td>0.94</td>\n",
       "    </tr>\n",
       "    <tr>\n",
       "      <th>...</th>\n",
       "      <td>...</td>\n",
       "      <td>...</td>\n",
       "      <td>...</td>\n",
       "      <td>...</td>\n",
       "      <td>...</td>\n",
       "      <td>...</td>\n",
       "      <td>...</td>\n",
       "    </tr>\n",
       "    <tr>\n",
       "      <th>2024-03-07</th>\n",
       "      <td>15.41</td>\n",
       "      <td>15.57</td>\n",
       "      <td>14.53</td>\n",
       "      <td>14.88</td>\n",
       "      <td>6059680.43</td>\n",
       "      <td>6059680.43</td>\n",
       "      <td>-0.53</td>\n",
       "    </tr>\n",
       "    <tr>\n",
       "      <th>2024-03-08</th>\n",
       "      <td>14.88</td>\n",
       "      <td>15.45</td>\n",
       "      <td>14.16</td>\n",
       "      <td>14.58</td>\n",
       "      <td>5109719.80</td>\n",
       "      <td>5109719.80</td>\n",
       "      <td>-0.30</td>\n",
       "    </tr>\n",
       "    <tr>\n",
       "      <th>2024-03-09</th>\n",
       "      <td>14.58</td>\n",
       "      <td>15.01</td>\n",
       "      <td>13.84</td>\n",
       "      <td>14.18</td>\n",
       "      <td>5427317.52</td>\n",
       "      <td>5427317.52</td>\n",
       "      <td>-0.40</td>\n",
       "    </tr>\n",
       "    <tr>\n",
       "      <th>2024-03-10</th>\n",
       "      <td>14.19</td>\n",
       "      <td>14.42</td>\n",
       "      <td>13.50</td>\n",
       "      <td>14.23</td>\n",
       "      <td>4646319.95</td>\n",
       "      <td>4646319.95</td>\n",
       "      <td>0.04</td>\n",
       "    </tr>\n",
       "    <tr>\n",
       "      <th>2024-03-11</th>\n",
       "      <td>14.23</td>\n",
       "      <td>14.31</td>\n",
       "      <td>13.50</td>\n",
       "      <td>14.13</td>\n",
       "      <td>1099755.37</td>\n",
       "      <td>1099755.37</td>\n",
       "      <td>-0.10</td>\n",
       "    </tr>\n",
       "  </tbody>\n",
       "</table>\n",
       "<p>1000 rows × 7 columns</p>\n",
       "</div>"
      ],
      "text/plain": [
       "            Opening Price (USD)  Highest Price (USD)  Lowest Price (USD)  \\\n",
       "2021-06-16                23.42                23.55               21.64   \n",
       "2021-06-17                21.83                22.94               21.40   \n",
       "2021-06-18                22.18                22.27               19.55   \n",
       "2021-06-19                20.40                20.98               19.75   \n",
       "2021-06-20                19.76                21.02               18.62   \n",
       "...                         ...                  ...                 ...   \n",
       "2024-03-07                15.41                15.57               14.53   \n",
       "2024-03-08                14.88                15.45               14.16   \n",
       "2024-03-09                14.58                15.01               13.84   \n",
       "2024-03-10                14.19                14.42               13.50   \n",
       "2024-03-11                14.23                14.31               13.50   \n",
       "\n",
       "            Closing Price (USD)   5. volume  6. market cap (USD)  \\\n",
       "2021-06-16                21.83  1687477.96           1687477.96   \n",
       "2021-06-17                22.18  1443998.15           1443998.15   \n",
       "2021-06-18                20.39  2187107.79           2187107.79   \n",
       "2021-06-19                19.76  1744280.98           1744280.98   \n",
       "2021-06-20                20.70  2410717.38           2410717.38   \n",
       "...                         ...         ...                  ...   \n",
       "2024-03-07                14.88  6059680.43           6059680.43   \n",
       "2024-03-08                14.58  5109719.80           5109719.80   \n",
       "2024-03-09                14.18  5427317.52           5427317.52   \n",
       "2024-03-10                14.23  4646319.95           4646319.95   \n",
       "2024-03-11                14.13  1099755.37           1099755.37   \n",
       "\n",
       "            Difference between opening and closing  \n",
       "2021-06-16                                   -1.59  \n",
       "2021-06-17                                    0.35  \n",
       "2021-06-18                                   -1.79  \n",
       "2021-06-19                                   -0.64  \n",
       "2021-06-20                                    0.94  \n",
       "...                                            ...  \n",
       "2024-03-07                                   -0.53  \n",
       "2024-03-08                                   -0.30  \n",
       "2024-03-09                                   -0.40  \n",
       "2024-03-10                                    0.04  \n",
       "2024-03-11                                   -0.10  \n",
       "\n",
       "[1000 rows x 7 columns]"
      ]
     },
     "execution_count": 56,
     "metadata": {},
     "output_type": "execute_result"
    }
   ],
   "source": [
    "df_UNI"
   ]
  },
  {
   "cell_type": "code",
   "execution_count": 60,
   "id": "81ee7f07",
   "metadata": {
    "scrolled": true
   },
   "outputs": [],
   "source": [
    "df_afjafj = df_UNI[\"Highest Price (USD)\"]"
   ]
  },
  {
   "cell_type": "code",
   "execution_count": 99,
   "id": "c73acfee",
   "metadata": {},
   "outputs": [
    {
     "name": "stdout",
     "output_type": "stream",
     "text": [
      "Predicted highest prices for future dates:\n",
      "2024-03-12 00:00:00: 14.94103422104355\n"
     ]
    }
   ],
   "source": [
    "degree = 5\n",
    "\n",
    "\n",
    "# Initialize polynomial regression model\n",
    "polyreg = make_pipeline(PolynomialFeatures(degree), LinearRegression())\n",
    "\n",
    "# Features and target variable\n",
    "X = df_UNI[['Closing Price (USD)']]\n",
    "y = df_UNI['Highest Price (USD)']\n",
    "\n",
    "# Fit the model\n",
    "polyreg.fit(X, y)\n",
    "\n",
    "future_dates = pd.date_range(start='2024-03-12', periods=7, freq='D')\n",
    "future_X = pd.DataFrame({'Closing Price (USD)': [14.13]}, index=[future_dates[0]])\n",
    "future_y = polyreg.predict(future_X)\n",
    "\n",
    "# Print future predictions\n",
    "print(\"Predicted highest prices for future dates:\")\n",
    "for date, price in zip(future_dates, future_y):\n",
    "    print(f\"{date}: {price}\")"
   ]
  }
 ],
 "metadata": {
  "kernelspec": {
   "display_name": "prophet",
   "language": "python",
   "name": "prophet"
  },
  "language_info": {
   "codemirror_mode": {
    "name": "ipython",
    "version": 3
   },
   "file_extension": ".py",
   "mimetype": "text/x-python",
   "name": "python",
   "nbconvert_exporter": "python",
   "pygments_lexer": "ipython3",
   "version": "3.11.5"
  }
 },
 "nbformat": 4,
 "nbformat_minor": 5
}

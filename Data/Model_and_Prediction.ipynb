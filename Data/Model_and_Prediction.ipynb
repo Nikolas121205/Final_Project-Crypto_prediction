{
 "cells": [
  {
   "cell_type": "code",
   "execution_count": 23,
   "id": "e0cd8162",
   "metadata": {},
   "outputs": [],
   "source": [
    "import pandas as pd \n",
    "from sklearn.model_selection import train_test_split, GridSearchCV\n",
    "from sklearn.ensemble import RandomForestRegressor\n",
    "from sklearn.metrics import mean_squared_error\n",
    "from sklearn.preprocessing import StandardScaler\n",
    "from sklearn.pipeline import Pipeline\n",
    "from statsmodels.tsa.statespace.sarimax import SARIMAX\n",
    "from sklearn.metrics import mean_squared_error\n",
    "from math import sqrt\n",
    "from sklearn.pipeline import make_pipeline\n",
    "from sklearn.preprocessing import PolynomialFeatures"
   ]
  },
  {
   "cell_type": "markdown",
   "id": "7b6b281d",
   "metadata": {},
   "source": [
    "# Importing CSV Files"
   ]
  },
  {
   "cell_type": "code",
   "execution_count": 187,
   "id": "80daaa17",
   "metadata": {},
   "outputs": [],
   "source": [
    "df_BTC = pd.read_csv(\"BTC_Historical_11-03.csv\", index_col=0)\n",
    "df_DOGE = pd.read_csv(\"DOGE_Historical_11-03.csv\", index_col=0)\n",
    "df_XRP = pd.read_csv(\"XRP_Historical_11-03.csv\", index_col=0)\n",
    "df_ETH = pd.read_csv(\"ETH_Historical_11-03.csv\", index_col=0)\n",
    "df_UNI = pd.read_csv(\"UNI_Historical_11-03.csv\", index_col=0)\n",
    "df_BTC_copy = pd.read_csv(\"BTC_Historical_11-03.csv\", index_col=0)\n"
   ]
  },
  {
   "cell_type": "markdown",
   "id": "c588dd25",
   "metadata": {},
   "source": [
    "# LINREQ"
   ]
  },
  {
   "cell_type": "code",
   "execution_count": 32,
   "id": "feda5c27",
   "metadata": {},
   "outputs": [],
   "source": [
    "# BTC"
   ]
  },
  {
   "cell_type": "code",
   "execution_count": 132,
   "id": "fa38d7b9",
   "metadata": {},
   "outputs": [
    {
     "name": "stdout",
     "output_type": "stream",
     "text": [
      "Predicted highest prices for future dates:\n",
      "2024-03-12 00:00:00: 69853.49647791797\n"
     ]
    }
   ],
   "source": [
    "degree = 2  # Degree of polynomial features\n",
    "polyreg = make_pipeline(PolynomialFeatures(degree), LinearRegression())\n",
    "\n",
    "# Features and target variable\n",
    "X = df_BTC[['Closing Price (USD)']]\n",
    "y = df_BTC['y']\n",
    "\n",
    "# Fit the model\n",
    "polyreg.fit(X, y)\n",
    "\n",
    "# Make future predictions (let's say predicting for the next 30 days)\n",
    "future_dates = pd.date_range(start='2024-03-12', periods=30, freq='D')\n",
    "last_available_data = df_BTC.iloc[-1]\n",
    "future_X = pd.DataFrame({'Closing Price (USD)': [last_available_data['Closing Price (USD)']]}, index=[future_dates[0]])\n",
    "future_y = polyreg.predict(future_X)\n",
    "\n",
    "# Print future predictions\n",
    "print(\"Predicted highest prices for future dates:\")\n",
    "for date, price in zip(future_dates, future_y):\n",
    "    print(f\"{date}: {price}\")"
   ]
  },
  {
   "cell_type": "code",
   "execution_count": 134,
   "id": "ee2531d9",
   "metadata": {},
   "outputs": [
    {
     "name": "stdout",
     "output_type": "stream",
     "text": [
      "Predicted lowest prices for future dates:\n",
      "2024-03-12 00:00:00: 66348.70923459053\n"
     ]
    }
   ],
   "source": [
    "degree = 2  # Degree of polynomial features\n",
    "polyreg = make_pipeline(PolynomialFeatures(degree), LinearRegression())\n",
    "\n",
    "# Features and target variable\n",
    "X = df_BTC[['Closing Price (USD)']]\n",
    "y = df_BTC['Lowest Price (USD)']\n",
    "\n",
    "# Fit the model\n",
    "polyreg.fit(X, y)\n",
    "\n",
    "# Make future predictions (let's say predicting for the next 30 days)\n",
    "future_dates = pd.date_range(start='2024-03-12', periods=30, freq='D')\n",
    "last_available_data = df_BTC.iloc[-1]\n",
    "future_X = pd.DataFrame({'Closing Price (USD)': [last_available_data['Closing Price (USD)']]}, index=[future_dates[0]])\n",
    "future_y = polyreg.predict(future_X)\n",
    "\n",
    "# Print future predictions\n",
    "print(\"Predicted lowest prices for future dates:\")\n",
    "for date, price in zip(future_dates, future_y):\n",
    "    print(f\"{date}: {price}\")"
   ]
  },
  {
   "cell_type": "code",
   "execution_count": 144,
   "id": "db2c540e",
   "metadata": {},
   "outputs": [],
   "source": [
    "btc_high_pred = 69853.49647791797\n",
    "btc_low_pred = 66348.70923459053"
   ]
  },
  {
   "cell_type": "code",
   "execution_count": 170,
   "id": "c0bf9e5a",
   "metadata": {},
   "outputs": [
    {
     "name": "stderr",
     "output_type": "stream",
     "text": [
      "/var/folders/sz/x51nf6p57096mncqbrxctq940000gn/T/ipykernel_10389/2375387423.py:4: SettingWithCopyWarning: \n",
      "A value is trying to be set on a copy of a slice from a DataFrame\n",
      "\n",
      "See the caveats in the documentation: https://pandas.pydata.org/pandas-docs/stable/user_guide/indexing.html#returning-a-view-versus-a-copy\n",
      "  df_BTC_pred.loc[new_date] = pred_value\n"
     ]
    }
   ],
   "source": [
    "df_BTC_pred = df_BTC[[\"y\", \"Lowest Price (USD)\"]]\n",
    "new_date = pd.to_datetime('2024-03-12')\n",
    "pred_value = [btc_high_pred, btc_low_pred]\n",
    "df_BTC_pred.loc[new_date] = pred_value"
   ]
  },
  {
   "cell_type": "code",
   "execution_count": 188,
   "id": "819e7c26",
   "metadata": {},
   "outputs": [],
   "source": [
    "# BTC copy"
   ]
  },
  {
   "cell_type": "code",
   "execution_count": 235,
   "id": "504eb0a9",
   "metadata": {},
   "outputs": [
    {
     "name": "stdout",
     "output_type": "stream",
     "text": [
      "Predicted highest prices for future dates:\n",
      "2024-03-12 00:00:00: 71999.8493557355\n"
     ]
    }
   ],
   "source": [
    "degree = 5\n",
    "\n",
    "# Initialize polynomial regression model\n",
    "polyreg = make_pipeline(PolynomialFeatures(degree), LinearRegression())\n",
    "\n",
    "# Features and target variable\n",
    "X = df_BTC_copy[['Closing Price (USD)']]\n",
    "y = df_BTC['Highest Price (USD)']\n",
    "\n",
    "# Fit the model\n",
    "polyreg.fit(X, y)\n",
    "\n",
    "# Make future predictions (let's say predicting for the next 30 days)\n",
    "future_dates = pd.date_range(start='2024-03-12', periods=30, freq='D')\n",
    "future_X = pd.DataFrame({'Closing Price (USD)': [68526]}, index=[future_dates[0]])\n",
    "future_y = polyreg.predict(future_X)\n",
    "\n",
    "# Print future predictions\n",
    "print(\"Predicted highest prices for future dates:\")\n",
    "for date, price in zip(future_dates, future_y):\n",
    "    print(f\"{date}: {price}\")"
   ]
  },
  {
   "cell_type": "code",
   "execution_count": 236,
   "id": "4716c950",
   "metadata": {},
   "outputs": [
    {
     "name": "stdout",
     "output_type": "stream",
     "text": [
      "Predicted lowest prices for future dates:\n",
      "2024-03-12 00:00:00: 68756.58238189445\n"
     ]
    }
   ],
   "source": [
    "degree = 5\n",
    "\n",
    "# Initialize polynomial regression model\n",
    "polyreg = make_pipeline(PolynomialFeatures(degree), LinearRegression())\n",
    "\n",
    "# Features and target variable\n",
    "X = df_BTC_copy[['Closing Price (USD)']]\n",
    "y = df_BTC_copy['Lowest Price (USD)']\n",
    "\n",
    "# Fit the model\n",
    "polyreg.fit(X, y)\n",
    "\n",
    "# Make future predictions (let's say predicting for the next 30 days)\n",
    "future_dates = pd.date_range(start='2024-03-12', periods=30, freq='D')\n",
    "future_X = pd.DataFrame({'Closing Price (USD)': [68526]}, index=[future_dates[0]])\n",
    "future_y = polyreg.predict(future_X)\n",
    "\n",
    "# Print future predictions\n",
    "print(\"Predicted lowest prices for future dates:\")\n",
    "for date, price in zip(future_dates, future_y):\n",
    "    print(f\"{date}: {price}\")"
   ]
  },
  {
   "cell_type": "code",
   "execution_count": 205,
   "id": "c23245f4",
   "metadata": {},
   "outputs": [],
   "source": [
    "btc_high_pred = 71999.8493557355\n",
    "btc_low_pred = 68756.58238189445"
   ]
  },
  {
   "cell_type": "code",
   "execution_count": 33,
   "id": "cfb9c6b0",
   "metadata": {},
   "outputs": [],
   "source": [
    "# DOGE"
   ]
  },
  {
   "cell_type": "code",
   "execution_count": 240,
   "id": "834e39b0",
   "metadata": {},
   "outputs": [
    {
     "name": "stdout",
     "output_type": "stream",
     "text": [
      "Predicted highest prices for future dates:\n",
      "2024-03-12 00:00:00: 0.179185988270293\n"
     ]
    }
   ],
   "source": [
    "degree = 5\n",
    "\n",
    "# Initialize polynomial regression model\n",
    "polyreg = make_pipeline(PolynomialFeatures(degree), LinearRegression())\n",
    "\n",
    "# Features and target variable\n",
    "X = df_DOGE[['Closing Price (USD)']]\n",
    "y = df_DOGE['Highest Price (USD)']\n",
    "\n",
    "# Fit the model\n",
    "polyreg.fit(X, y)\n",
    "\n",
    "# Make future predictions (let's say predicting for the next 30 days)\n",
    "future_dates = pd.date_range(start='2024-03-12', periods=30, freq='D')\n",
    "future_X = pd.DataFrame({'Closing Price (USD)': [0.17]}, index=[future_dates[0]])\n",
    "future_y = polyreg.predict(future_X)\n",
    "\n",
    "# Print future predictions\n",
    "print(\"Predicted highest prices for future dates:\")\n",
    "for date, price in zip(future_dates, future_y):\n",
    "    print(f\"{date}: {price}\")"
   ]
  },
  {
   "cell_type": "code",
   "execution_count": 239,
   "id": "7e54b4c3",
   "metadata": {},
   "outputs": [
    {
     "name": "stdout",
     "output_type": "stream",
     "text": [
      "Predicted lowest prices for future dates:\n",
      "2024-03-12 00:00:00: 0.16270525360652066\n"
     ]
    }
   ],
   "source": [
    "degree = 5\n",
    "\n",
    "# Initialize polynomial regression model\n",
    "polyreg = make_pipeline(PolynomialFeatures(degree), LinearRegression())\n",
    "\n",
    "# Features and target variable\n",
    "X = df_DOGE[['Closing Price (USD)']]\n",
    "y = df_DOGE['Lowest Price (USD)']\n",
    "\n",
    "# Fit the model\n",
    "polyreg.fit(X, y)\n",
    "\n",
    "# Make future predictions (let's say predicting for the next 30 days)\n",
    "future_dates = pd.date_range(start='2024-03-12', periods=30, freq='D')\n",
    "future_X = pd.DataFrame({'Closing Price (USD)': [0.17]}, index=[future_dates[0]])\n",
    "future_y = polyreg.predict(future_X)\n",
    "\n",
    "# Print future predictions\n",
    "print(\"Predicted lowest prices for future dates:\")\n",
    "for date, price in zip(future_dates, future_y):\n",
    "    print(f\"{date}: {price}\")"
   ]
  },
  {
   "cell_type": "code",
   "execution_count": 193,
   "id": "d28a471e",
   "metadata": {},
   "outputs": [],
   "source": [
    "DOGE_high_pred = 0.179185988270293\n",
    "DOGE_low_pred = 0.16270525360652066"
   ]
  },
  {
   "cell_type": "code",
   "execution_count": 38,
   "id": "25594562",
   "metadata": {},
   "outputs": [],
   "source": [
    "# Etherum"
   ]
  },
  {
   "cell_type": "code",
   "execution_count": 237,
   "id": "0f4c0a55",
   "metadata": {},
   "outputs": [
    {
     "name": "stdout",
     "output_type": "stream",
     "text": [
      "Predicted highest prices for future dates:\n",
      "2024-03-12 00:00:00: 3923.0733362897136\n"
     ]
    }
   ],
   "source": [
    "degree = 5\n",
    "\n",
    "# Initialize polynomial regression model\n",
    "polyreg = make_pipeline(PolynomialFeatures(degree), LinearRegression())\n",
    "\n",
    "# Features and target variable\n",
    "X = df_ETH[['Closing Price (USD)']]\n",
    "y = df_ETH['Highest Price (USD)']\n",
    "\n",
    "# Fit the model\n",
    "polyreg.fit(X, y)\n",
    "\n",
    "# Make future predictions (let's say predicting for the next 30 days)\n",
    "future_dates = pd.date_range(start='2024-03-12', periods=30, freq='D')\n",
    "future_X = pd.DataFrame({'Closing Price (USD)': [3817.03]}, index=[future_dates[0]])\n",
    "future_y = polyreg.predict(future_X)\n",
    "\n",
    "# Print future predictions\n",
    "print(\"Predicted highest prices for future dates:\")\n",
    "for date, price in zip(future_dates, future_y):\n",
    "    print(f\"{date}: {price}\")"
   ]
  },
  {
   "cell_type": "code",
   "execution_count": 238,
   "id": "94739854",
   "metadata": {},
   "outputs": [
    {
     "name": "stdout",
     "output_type": "stream",
     "text": [
      "Predicted lowest prices for future dates:\n",
      "2024-03-12 00:00:00: 3678.9589765217825\n"
     ]
    }
   ],
   "source": [
    "degree = 5\n",
    "\n",
    "# Initialize polynomial regression model\n",
    "polyreg = make_pipeline(PolynomialFeatures(degree), LinearRegression())\n",
    "\n",
    "# Features and target variable\n",
    "X = df_ETH[['Closing Price (USD)']]\n",
    "y = df_ETH['Lowest Price (USD)']\n",
    "\n",
    "# Fit the model\n",
    "polyreg.fit(X, y)\n",
    "\n",
    "# Make future predictions (let's say predicting for the next 30 days)\n",
    "future_dates = pd.date_range(start='2024-03-12', periods=30, freq='D')\n",
    "future_X = pd.DataFrame({'Closing Price (USD)': [3817.03]}, index=[future_dates[0]])\n",
    "future_y = polyreg.predict(future_X)\n",
    "\n",
    "# Print future predictions\n",
    "print(\"Predicted lowest prices for future dates:\")\n",
    "for date, price in zip(future_dates, future_y):\n",
    "    print(f\"{date}: {price}\")"
   ]
  },
  {
   "cell_type": "code",
   "execution_count": 196,
   "id": "e4e8b629",
   "metadata": {},
   "outputs": [],
   "source": [
    "ETH_high_pred = 3923.0733362897136\n",
    "ETH_low_pred = 3678.9589765217825"
   ]
  },
  {
   "cell_type": "code",
   "execution_count": 41,
   "id": "3caa9ddc",
   "metadata": {},
   "outputs": [],
   "source": [
    "# XRP"
   ]
  },
  {
   "cell_type": "code",
   "execution_count": 241,
   "id": "0538465f",
   "metadata": {},
   "outputs": [
    {
     "name": "stdout",
     "output_type": "stream",
     "text": [
      "Predicted highest prices for future dates:\n",
      "2024-03-12 00:00:00: 0.6171763695870979\n"
     ]
    }
   ],
   "source": [
    "degree = 5\n",
    "# Initialize polynomial regression model\n",
    "polyreg = make_pipeline(PolynomialFeatures(degree), LinearRegression())\n",
    "\n",
    "# Features and target variable\n",
    "X = df_XRP[['Closing Price (USD)']]\n",
    "y = df_XRP['Highest Price (USD)']\n",
    "\n",
    "# Fit the model\n",
    "polyreg.fit(X, y)\n",
    "\n",
    "# Make future predictions (let's say predicting for the next 30 days)\n",
    "future_dates = pd.date_range(start='2024-03-12', periods=30, freq='D')\n",
    "future_X = pd.DataFrame({'Closing Price (USD)': [0.6]}, index=[future_dates[0]])\n",
    "future_y = polyreg.predict(future_X)\n",
    "\n",
    "# Print future predictions\n",
    "print(\"Predicted highest prices for future dates:\")\n",
    "for date, price in zip(future_dates, future_y):\n",
    "    print(f\"{date}: {price}\")"
   ]
  },
  {
   "cell_type": "code",
   "execution_count": 242,
   "id": "f9e532c9",
   "metadata": {},
   "outputs": [
    {
     "name": "stdout",
     "output_type": "stream",
     "text": [
      "Predicted lowest prices for future dates:\n",
      "2024-03-12 00:00:00: 0.580943608931109\n"
     ]
    }
   ],
   "source": [
    "degree = 5\n",
    "\n",
    "# Initialize polynomial regression model\n",
    "polyreg = make_pipeline(PolynomialFeatures(degree), LinearRegression())\n",
    "\n",
    "# Features and target variable\n",
    "X = df_XRP[['Closing Price (USD)']]\n",
    "y = df_XRP['Lowest Price (USD)']\n",
    "\n",
    "# Fit the model\n",
    "polyreg.fit(X, y)\n",
    "\n",
    "# Make future predictions (let's say predicting for the next 30 days)\n",
    "future_dates = pd.date_range(start='2024-03-12', periods=30, freq='D')\n",
    "future_X = pd.DataFrame({'Closing Price (USD)': [0.6]}, index=[future_dates[0]])\n",
    "future_y = polyreg.predict(future_X)\n",
    "\n",
    "# Print future predictions\n",
    "print(\"Predicted lowest prices for future dates:\")\n",
    "for date, price in zip(future_dates, future_y):\n",
    "    print(f\"{date}: {price}\")"
   ]
  },
  {
   "cell_type": "code",
   "execution_count": 199,
   "id": "b0b2e4c7",
   "metadata": {},
   "outputs": [],
   "source": [
    "XRP_high_pred = 0.6171763695870979\n",
    "XRP_low_pred = 0.580943608931109"
   ]
  },
  {
   "cell_type": "code",
   "execution_count": 46,
   "id": "99386c54",
   "metadata": {},
   "outputs": [],
   "source": [
    "# UNI"
   ]
  },
  {
   "cell_type": "code",
   "execution_count": 243,
   "id": "0e3e14f1",
   "metadata": {},
   "outputs": [
    {
     "name": "stdout",
     "output_type": "stream",
     "text": [
      "Predicted highest prices for future dates:\n",
      "2024-03-12 00:00:00: 14.94103422104355\n"
     ]
    }
   ],
   "source": [
    "degree = 5\n",
    "\n",
    "\n",
    "# Initialize polynomial regression model\n",
    "polyreg = make_pipeline(PolynomialFeatures(degree), LinearRegression())\n",
    "\n",
    "# Features and target variable\n",
    "X = df_UNI[['Closing Price (USD)']]\n",
    "y = df_UNI['Highest Price (USD)']\n",
    "\n",
    "# Fit the model\n",
    "polyreg.fit(X, y)\n",
    "\n",
    "future_dates = pd.date_range(start='2024-03-12', periods=7, freq='D')\n",
    "future_X = pd.DataFrame({'Closing Price (USD)': [14.13]}, index=[future_dates[0]])\n",
    "future_y = polyreg.predict(future_X)\n",
    "\n",
    "# Print future predictions\n",
    "print(\"Predicted highest prices for future dates:\")\n",
    "for date, price in zip(future_dates, future_y):\n",
    "    print(f\"{date}: {price}\")"
   ]
  },
  {
   "cell_type": "code",
   "execution_count": 244,
   "id": "58515c3b",
   "metadata": {},
   "outputs": [
    {
     "name": "stdout",
     "output_type": "stream",
     "text": [
      "Predicted lowest prices for future dates:\n",
      "2024-03-12 00:00:00: 13.4086553139549\n"
     ]
    }
   ],
   "source": [
    "degree = 5\n",
    "\n",
    "\n",
    "# Initialize polynomial regression model\n",
    "polyreg = make_pipeline(PolynomialFeatures(degree), LinearRegression())\n",
    "\n",
    "# Features and target variable\n",
    "X = df_UNI[['Closing Price (USD)']]\n",
    "y = df_UNI['Lowest Price (USD)']\n",
    "\n",
    "# Fit the model\n",
    "polyreg.fit(X, y)\n",
    "\n",
    "future_dates = pd.date_range(start='2024-03-12', periods=7, freq='D')\n",
    "future_X = pd.DataFrame({'Closing Price (USD)': [14.13]}, index=[future_dates[0]])\n",
    "future_y = polyreg.predict(future_X)\n",
    "\n",
    "# Print future predictions\n",
    "print(\"Predicted lowest prices for future dates:\")\n",
    "for date, price in zip(future_dates, future_y):\n",
    "    print(f\"{date}: {price}\")"
   ]
  },
  {
   "cell_type": "code",
   "execution_count": 151,
   "id": "5576d0a7",
   "metadata": {},
   "outputs": [],
   "source": [
    "UNI_high_pred = 14.94\n",
    "UNI_low_pred = 13.41"
   ]
  },
  {
   "cell_type": "markdown",
   "id": "e18004b0",
   "metadata": {},
   "source": [
    "# Adding the predicted results to the dataframe"
   ]
  },
  {
   "cell_type": "code",
   "execution_count": 185,
   "id": "048a1d05",
   "metadata": {},
   "outputs": [],
   "source": [
    "def add_new_row(df, highest_price, lowest_price):\n",
    "    # Make a copy of the original DataFrame with only desired columns\n",
    "    new_df = df[['Highest Price (USD)', 'Lowest Price (USD)']].copy()\n",
    "    \n",
    "    # New data to add\n",
    "    new_date = pd.to_datetime('2024-03-12')\n",
    "    new_row = {'Highest Price (USD)': highest_price, 'Lowest Price (USD)': lowest_price}\n",
    "\n",
    "    # Append the new row\n",
    "    new_df.loc[new_date.strftime('%Y-%m-%d')] = new_row\n",
    "\n",
    "    return new_df"
   ]
  },
  {
   "cell_type": "code",
   "execution_count": 213,
   "id": "dd52be55",
   "metadata": {},
   "outputs": [],
   "source": [
    "df_BTC_pred = add_new_row(df_BTC_copy, btc_high_pred, btc_low_pred)\n",
    "df_ETH_pred = add_new_row(df_ETH, ETH_high_pred, ETH_low_pred)\n",
    "df_DOGE_pred = add_new_row(df_DOGE, DOGE_high_pred, DOGE_low_pred)\n",
    "df_XRP_pred = add_new_row(df_XRP, XRP_high_pred, XRP_low_pred)\n",
    "df_UNI_pred = add_new_row(df_UNI, UNI_high_pred, UNI_low_pred)"
   ]
  },
  {
   "cell_type": "code",
   "execution_count": 247,
   "id": "55f47484",
   "metadata": {},
   "outputs": [
    {
     "data": {
      "text/html": [
       "<div>\n",
       "<style scoped>\n",
       "    .dataframe tbody tr th:only-of-type {\n",
       "        vertical-align: middle;\n",
       "    }\n",
       "\n",
       "    .dataframe tbody tr th {\n",
       "        vertical-align: top;\n",
       "    }\n",
       "\n",
       "    .dataframe thead th {\n",
       "        text-align: right;\n",
       "    }\n",
       "</style>\n",
       "<table border=\"1\" class=\"dataframe\">\n",
       "  <thead>\n",
       "    <tr style=\"text-align: right;\">\n",
       "      <th></th>\n",
       "      <th>Highest Price (USD)</th>\n",
       "      <th>Lowest Price (USD)</th>\n",
       "    </tr>\n",
       "  </thead>\n",
       "  <tbody>\n",
       "    <tr>\n",
       "      <th>2024-03-12</th>\n",
       "      <td>14.94</td>\n",
       "      <td>13.41</td>\n",
       "    </tr>\n",
       "  </tbody>\n",
       "</table>\n",
       "</div>"
      ],
      "text/plain": [
       "            Highest Price (USD)  Lowest Price (USD)\n",
       "2024-03-12                14.94               13.41"
      ]
     },
     "execution_count": 247,
     "metadata": {},
     "output_type": "execute_result"
    }
   ],
   "source": [
    "filter_pred = df_UNI_pred[df_UNI_pred.index == '2024-03-12']\n",
    "filter_pred"
   ]
  },
  {
   "cell_type": "markdown",
   "id": "0efa3bbb",
   "metadata": {},
   "source": [
    "# Exporting these dataframes"
   ]
  },
  {
   "cell_type": "code",
   "execution_count": 214,
   "id": "7ea8fb00",
   "metadata": {},
   "outputs": [],
   "source": [
    "def exporting_dataframe(df, filename):\n",
    "    df.to_csv(f'{filename}.csv', index=True)"
   ]
  },
  {
   "cell_type": "code",
   "execution_count": 216,
   "id": "fb80e81c",
   "metadata": {},
   "outputs": [],
   "source": [
    "exporting_dataframe(df_BTC_pred, 'BTC_With_Prediction')\n",
    "exporting_dataframe(df_ETH_pred, 'ETH_With_Prediction')\n",
    "exporting_dataframe(df_DOGE_pred, 'DOGE_With_Prediction')\n",
    "exporting_dataframe(df_XRP_pred, 'XRP_With_Prediction')\n",
    "exporting_dataframe(df_UNI_pred, 'UNI_With_Prediction')"
   ]
  }
 ],
 "metadata": {
  "kernelspec": {
   "display_name": "prophet",
   "language": "python",
   "name": "prophet"
  },
  "language_info": {
   "codemirror_mode": {
    "name": "ipython",
    "version": 3
   },
   "file_extension": ".py",
   "mimetype": "text/x-python",
   "name": "python",
   "nbconvert_exporter": "python",
   "pygments_lexer": "ipython3",
   "version": "3.11.5"
  }
 },
 "nbformat": 4,
 "nbformat_minor": 5
}

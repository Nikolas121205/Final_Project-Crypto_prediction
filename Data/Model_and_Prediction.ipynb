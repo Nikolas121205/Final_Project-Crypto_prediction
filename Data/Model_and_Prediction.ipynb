{
 "cells": [
  {
   "cell_type": "code",
   "execution_count": 23,
   "id": "e0cd8162",
   "metadata": {},
   "outputs": [],
   "source": [
    "import pandas as pd \n",
    "from sklearn.model_selection import train_test_split, GridSearchCV\n",
    "from sklearn.ensemble import RandomForestRegressor\n",
    "from sklearn.metrics import mean_squared_error\n",
    "from sklearn.preprocessing import StandardScaler\n",
    "from sklearn.pipeline import Pipeline\n",
    "from statsmodels.tsa.statespace.sarimax import SARIMAX\n",
    "from sklearn.metrics import mean_squared_error\n",
    "from math import sqrt\n",
    "from sklearn.pipeline import make_pipeline\n",
    "from sklearn.preprocessing import PolynomialFeatures"
   ]
  },
  {
   "cell_type": "markdown",
   "id": "7b6b281d",
   "metadata": {},
   "source": [
    "# Importing CSV Files"
   ]
  },
  {
   "cell_type": "code",
   "execution_count": 5,
   "id": "80daaa17",
   "metadata": {},
   "outputs": [],
   "source": [
    "df_BTC = pd.read_csv(\"BTC_Historical_11-03.csv\", index_col=0)\n",
    "df_DOGE = pd.read_csv(\"DOGE_Historical_11-03.csv\", index_col=0)\n",
    "df_XRP = pd.read_csv(\"XRP_Historical_11-03.csv\", index_col=0)\n",
    "df_ETH = pd.read_csv(\"ETH_Historical_11-03.csv\", index_col=0)\n",
    "df_UNI = pd.read_csv(\"UNI_Historical_11-03.csv\", index_col=0)"
   ]
  },
  {
   "cell_type": "markdown",
   "id": "c588dd25",
   "metadata": {},
   "source": [
    "# LINREQ"
   ]
  },
  {
   "cell_type": "code",
   "execution_count": 32,
   "id": "94781d91",
   "metadata": {},
   "outputs": [],
   "source": [
    "# BTC"
   ]
  },
  {
   "cell_type": "code",
   "execution_count": 30,
   "id": "fa38d7b9",
   "metadata": {},
   "outputs": [
    {
     "name": "stdout",
     "output_type": "stream",
     "text": [
      "Predicted highest prices for future dates:\n",
      "2024-03-12 00:00:00: 69853.49647791797\n"
     ]
    }
   ],
   "source": [
    "degree = 2  # Degree of polynomial features\n",
    "polyreg = make_pipeline(PolynomialFeatures(degree), LinearRegression())\n",
    "\n",
    "# Features and target variable\n",
    "X = df_BTC[['Closing Price (USD)']]\n",
    "y = df_BTC['y']\n",
    "\n",
    "# Fit the model\n",
    "polyreg.fit(X, y)\n",
    "\n",
    "# Make future predictions (let's say predicting for the next 30 days)\n",
    "future_dates = pd.date_range(start='2024-03-12', periods=30, freq='D')\n",
    "last_available_data = df_BTC.iloc[-1]\n",
    "future_X = pd.DataFrame({'Closing Price (USD)': [last_available_data['Closing Price (USD)']]}, index=[future_dates[0]])\n",
    "future_y = polyreg.predict(future_X)\n",
    "\n",
    "# Print future predictions\n",
    "print(\"Predicted highest prices for future dates:\")\n",
    "for date, price in zip(future_dates, future_y):\n",
    "    print(f\"{date}: {price}\")"
   ]
  },
  {
   "cell_type": "code",
   "execution_count": 33,
   "id": "62216967",
   "metadata": {},
   "outputs": [],
   "source": [
    "# DOGE"
   ]
  },
  {
   "cell_type": "code",
   "execution_count": 37,
   "id": "133893a1",
   "metadata": {},
   "outputs": [
    {
     "name": "stdout",
     "output_type": "stream",
     "text": [
      "Predicted highest prices for future dates:\n",
      "2024-03-12 00:00:00: 0.17887508057279983\n"
     ]
    }
   ],
   "source": [
    "degree = 2\n",
    "\n",
    "# Initialize polynomial regression model\n",
    "polyreg = make_pipeline(PolynomialFeatures(degree), LinearRegression())\n",
    "\n",
    "# Features and target variable\n",
    "X = df_DOGE[['Closing Price (USD)']]\n",
    "y = df_DOGE['Highest Price (USD)']\n",
    "\n",
    "# Fit the model\n",
    "polyreg.fit(X, y)\n",
    "\n",
    "# Make future predictions (let's say predicting for the next 30 days)\n",
    "future_dates = pd.date_range(start='2024-03-12', periods=30, freq='D')\n",
    "future_X = pd.DataFrame({'Closing Price (USD)': [0.17]}, index=[future_dates[0]])\n",
    "future_y = polyreg.predict(future_X)\n",
    "\n",
    "# Print future predictions\n",
    "print(\"Predicted highest prices for future dates:\")\n",
    "for date, price in zip(future_dates, future_y):\n",
    "    print(f\"{date}: {price}\")"
   ]
  },
  {
   "cell_type": "code",
   "execution_count": 38,
   "id": "dcb85f70",
   "metadata": {},
   "outputs": [],
   "source": [
    "# Etherum"
   ]
  },
  {
   "cell_type": "code",
   "execution_count": 40,
   "id": "c6a8fbb5",
   "metadata": {},
   "outputs": [
    {
     "name": "stdout",
     "output_type": "stream",
     "text": [
      "Predicted highest prices for future dates:\n",
      "2024-03-12 00:00:00: 3915.4894684060555\n"
     ]
    }
   ],
   "source": [
    "degree = 2\n",
    "\n",
    "# Initialize polynomial regression model\n",
    "polyreg = make_pipeline(PolynomialFeatures(degree), LinearRegression())\n",
    "\n",
    "# Features and target variable\n",
    "X = df_ETH[['Closing Price (USD)']]\n",
    "y = df_ETH['Highest Price (USD)']\n",
    "\n",
    "# Fit the model\n",
    "polyreg.fit(X, y)\n",
    "\n",
    "# Make future predictions (let's say predicting for the next 30 days)\n",
    "future_dates = pd.date_range(start='2024-03-12', periods=30, freq='D')\n",
    "future_X = pd.DataFrame({'Closing Price (USD)': [3817.03]}, index=[future_dates[0]])\n",
    "future_y = polyreg.predict(future_X)\n",
    "\n",
    "# Print future predictions\n",
    "print(\"Predicted highest prices for future dates:\")\n",
    "for date, price in zip(future_dates, future_y):\n",
    "    print(f\"{date}: {price}\")"
   ]
  },
  {
   "cell_type": "code",
   "execution_count": 41,
   "id": "882116f2",
   "metadata": {},
   "outputs": [],
   "source": [
    "# XRP"
   ]
  },
  {
   "cell_type": "code",
   "execution_count": 44,
   "id": "47375cb6",
   "metadata": {},
   "outputs": [
    {
     "name": "stdout",
     "output_type": "stream",
     "text": [
      "Predicted highest prices for future dates:\n",
      "2024-03-12 00:00:00: 0.6186635649931228\n"
     ]
    }
   ],
   "source": [
    "degree = 2\n",
    "\n",
    "# Initialize polynomial regression model\n",
    "polyreg = make_pipeline(PolynomialFeatures(degree), LinearRegression())\n",
    "\n",
    "# Features and target variable\n",
    "X = df_XRP[['Closing Price (USD)']]\n",
    "y = df_XRP['Highest Price (USD)']\n",
    "\n",
    "# Fit the model\n",
    "polyreg.fit(X, y)\n",
    "\n",
    "# Make future predictions (let's say predicting for the next 30 days)\n",
    "future_dates = pd.date_range(start='2024-03-12', periods=30, freq='D')\n",
    "future_X = pd.DataFrame({'Closing Price (USD)': [0.6]}, index=[future_dates[0]])\n",
    "future_y = polyreg.predict(future_X)\n",
    "\n",
    "# Print future predictions\n",
    "print(\"Predicted highest prices for future dates:\")\n",
    "for date, price in zip(future_dates, future_y):\n",
    "    print(f\"{date}: {price}\")"
   ]
  },
  {
   "cell_type": "code",
   "execution_count": 46,
   "id": "5068788c",
   "metadata": {},
   "outputs": [],
   "source": [
    "# UNI"
   ]
  },
  {
   "cell_type": "code",
   "execution_count": 49,
   "id": "03133ec9",
   "metadata": {},
   "outputs": [
    {
     "name": "stdout",
     "output_type": "stream",
     "text": [
      "Predicted highest prices for future dates:\n",
      "2024-03-12 00:00:00: 14.902542536077659\n"
     ]
    }
   ],
   "source": [
    "degree = 2\n",
    "\n",
    "# Initialize polynomial regression model\n",
    "polyreg = make_pipeline(PolynomialFeatures(degree), LinearRegression())\n",
    "\n",
    "# Features and target variable\n",
    "X = df_UNI[['Closing Price (USD)']]\n",
    "y = df_UNI['Highest Price (USD)']\n",
    "\n",
    "# Fit the model\n",
    "polyreg.fit(X, y)\n",
    "\n",
    "# Make future predictions (let's say predicting for the next 30 days)\n",
    "future_dates = pd.date_range(start='2024-03-12', periods=30, freq='D')\n",
    "future_X = pd.DataFrame({'Closing Price (USD)': [14.13]}, index=[future_dates[0]])\n",
    "future_y = polyreg.predict(future_X)\n",
    "\n",
    "# Print future predictions\n",
    "print(\"Predicted highest prices for future dates:\")\n",
    "for date, price in zip(future_dates, future_y):\n",
    "    print(f\"{date}: {price}\")"
   ]
  }
 ],
 "metadata": {
  "kernelspec": {
   "display_name": "prophet",
   "language": "python",
   "name": "prophet"
  },
  "language_info": {
   "codemirror_mode": {
    "name": "ipython",
    "version": 3
   },
   "file_extension": ".py",
   "mimetype": "text/x-python",
   "name": "python",
   "nbconvert_exporter": "python",
   "pygments_lexer": "ipython3",
   "version": "3.11.5"
  }
 },
 "nbformat": 4,
 "nbformat_minor": 5
}

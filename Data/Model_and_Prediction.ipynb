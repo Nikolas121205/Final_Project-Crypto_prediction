{
 "cells": [
  {
   "cell_type": "code",
   "execution_count": 23,
   "id": "e0cd8162",
   "metadata": {},
   "outputs": [],
   "source": [
    "import pandas as pd \n",
    "from sklearn.model_selection import train_test_split, GridSearchCV\n",
    "from sklearn.ensemble import RandomForestRegressor\n",
    "from sklearn.metrics import mean_squared_error\n",
    "from sklearn.preprocessing import StandardScaler\n",
    "from sklearn.pipeline import Pipeline\n",
    "from statsmodels.tsa.statespace.sarimax import SARIMAX\n",
    "from sklearn.metrics import mean_squared_error\n",
    "from math import sqrt\n",
    "from sklearn.pipeline import make_pipeline\n",
    "from sklearn.preprocessing import PolynomialFeatures"
   ]
  },
  {
   "cell_type": "markdown",
   "id": "7b6b281d",
   "metadata": {},
   "source": [
    "# Importing CSV Files"
   ]
  },
  {
   "cell_type": "code",
   "execution_count": 5,
   "id": "80daaa17",
   "metadata": {},
   "outputs": [],
   "source": [
    "df_BTC = pd.read_csv(\"BTC_Historical_11-03.csv\", index_col=0)\n",
    "df_DOGE = pd.read_csv(\"DOGE_Historical_11-03.csv\", index_col=0)\n",
    "df_XRP = pd.read_csv(\"XRP_Historical_11-03.csv\", index_col=0)\n",
    "df_ETH = pd.read_csv(\"ETH_Historical_11-03.csv\", index_col=0)\n",
    "df_UNI = pd.read_csv(\"UNI_Historical_11-03.csv\", index_col=0)"
   ]
  },
  {
   "cell_type": "markdown",
   "id": "e26b5d80",
   "metadata": {},
   "source": [
    "# Using feature engineering"
   ]
  },
  {
   "cell_type": "code",
   "execution_count": null,
   "id": "07d121c9",
   "metadata": {},
   "outputs": [],
   "source": [
    "# BTC"
   ]
  },
  {
   "cell_type": "code",
   "execution_count": 39,
   "id": "d1ddefc2",
   "metadata": {},
   "outputs": [
    {
     "name": "stdout",
     "output_type": "stream",
     "text": [
      "Mean Squared Error: 271535.7147975525\n"
     ]
    }
   ],
   "source": [
    "df_BTC['Difference between opening and closing'] = df_BTC['Opening Price (USD)'] - df_BTC['Closing Price (USD)']\n",
    "\n",
    "# Define features and target variable\n",
    "X = df_BTC.drop(columns=['Highest Price (USD)'])\n",
    "y = df_BTC['Highest Price (USD)']\n",
    "\n",
    "# Split data into training and testing sets\n",
    "X_train, X_test, y_train, y_test = train_test_split(X, y, test_size=0.2, random_state=42)\n",
    "\n",
    "# Standardize features\n",
    "scaler = StandardScaler()\n",
    "X_train_scaled = scaler.fit_transform(X_train)\n",
    "X_test_scaled = scaler.transform(X_test)\n",
    "\n",
    "# Train Random Forest model\n",
    "model = RandomForestRegressor(n_estimators=100, random_state=42)\n",
    "model.fit(X_train_scaled, y_train)\n",
    "\n",
    "# Predict on the testing set\n",
    "y_pred = model.predict(X_test_scaled)\n",
    "\n",
    "# Evaluate model performance\n",
    "mse = mean_squared_error(y_test, y_pred)\n",
    "print(f\"Mean Squared Error: {mse}\")"
   ]
  },
  {
   "cell_type": "code",
   "execution_count": 40,
   "id": "df8fdd55",
   "metadata": {},
   "outputs": [
    {
     "name": "stdout",
     "output_type": "stream",
     "text": [
      "Mean Squared Error: 265707.5387310729\n"
     ]
    }
   ],
   "source": [
    "X = df_BTC.drop(columns=['Highest Price (USD)'])\n",
    "y = df_BTC['Highest Price (USD)']\n",
    "\n",
    "# Split data into training and testing sets\n",
    "X_train, X_test, y_train, y_test = train_test_split(X, y, test_size=0.2, random_state=42)\n",
    "\n",
    "# Define a pipeline for preprocessing and modeling\n",
    "pipeline = Pipeline([\n",
    "    ('scaler', StandardScaler()),\n",
    "    ('regressor', RandomForestRegressor(random_state=42))\n",
    "])\n",
    "\n",
    "# Define hyperparameters to tune\n",
    "param_grid = {\n",
    "    'regressor__n_estimators': [100, 200, 300],\n",
    "    'regressor__max_depth': [None, 10, 20],\n",
    "    'regressor__min_samples_split': [2, 5, 10]\n",
    "}\n",
    "\n",
    "# Perform grid search cross-validation to find the best hyperparameters\n",
    "grid_search = GridSearchCV(pipeline, param_grid, cv=5, scoring='neg_mean_squared_error')\n",
    "grid_search.fit(X_train, y_train)\n",
    "\n",
    "# Get the best model from the grid search\n",
    "best_model = grid_search.best_estimator_\n",
    "\n",
    "# Evaluate the best model on the testing set\n",
    "y_pred = best_model.predict(X_test)\n",
    "mse = mean_squared_error(y_test, y_pred)\n",
    "print(\"Mean Squared Error:\", mse)\n"
   ]
  },
  {
   "cell_type": "code",
   "execution_count": 19,
   "id": "ff135d9d",
   "metadata": {
    "scrolled": true
   },
   "outputs": [
    {
     "name": "stderr",
     "output_type": "stream",
     "text": [
      "/Users/nikolasstahl/anaconda3/lib/python3.11/site-packages/statsmodels/tsa/base/tsa_model.py:473: ValueWarning: No frequency information was provided, so inferred frequency D will be used.\n",
      "  self._init_dates(dates, freq)\n",
      "/Users/nikolasstahl/anaconda3/lib/python3.11/site-packages/statsmodels/tsa/base/tsa_model.py:473: ValueWarning: No frequency information was provided, so inferred frequency D will be used.\n",
      "  self._init_dates(dates, freq)\n",
      " This problem is unconstrained.\n"
     ]
    },
    {
     "name": "stdout",
     "output_type": "stream",
     "text": [
      "RUNNING THE L-BFGS-B CODE\n",
      "\n",
      "           * * *\n",
      "\n",
      "Machine precision = 2.220D-16\n",
      " N =            5     M =           10\n",
      "\n",
      "At X0         0 variables are exactly at the bounds\n",
      "\n",
      "At iterate    0    f=  8.20122D+00    |proj g|=  3.47666D-02\n",
      "\n",
      "At iterate    5    f=  8.19952D+00    |proj g|=  3.89565D-03\n",
      "\n",
      "At iterate   10    f=  8.19946D+00    |proj g|=  2.42206D-03\n",
      "\n",
      "At iterate   15    f=  8.19944D+00    |proj g|=  5.82916D-04\n",
      "\n",
      "At iterate   20    f=  8.19923D+00    |proj g|=  8.00249D-03\n",
      "\n",
      "At iterate   25    f=  8.17390D+00    |proj g|=  1.16124D-01\n",
      "\n",
      "At iterate   30    f=  8.12471D+00    |proj g|=  1.15415D-03\n",
      "\n",
      "At iterate   35    f=  8.12451D+00    |proj g|=  1.12578D-03\n",
      "\n",
      "           * * *\n",
      "\n",
      "Tit   = total number of iterations\n",
      "Tnf   = total number of function evaluations\n",
      "Tnint = total number of segments explored during Cauchy searches\n",
      "Skip  = number of BFGS updates skipped\n",
      "Nact  = number of active bounds at final generalized Cauchy point\n",
      "Projg = norm of the final projected gradient\n",
      "F     = final function value\n",
      "\n",
      "           * * *\n",
      "\n",
      "   N    Tit     Tnf  Tnint  Skip  Nact     Projg        F\n",
      "    5     39     43      1     0     0   3.306D-05   8.124D+00\n",
      "  F =   8.1244828610002315     \n",
      "\n",
      "CONVERGENCE: REL_REDUCTION_OF_F_<=_FACTR*EPSMCH             \n",
      "Predicted Highest Price for 2024-03-12 00:00:00: 26510.65605440646\n",
      "Predicted Highest Price for 2024-03-13 00:00:00: 26553.716013269735\n",
      "Predicted Highest Price for 2024-03-14 00:00:00: 26528.9878483047\n",
      "Predicted Highest Price for 2024-03-15 00:00:00: 26526.56229061564\n",
      "Predicted Highest Price for 2024-03-16 00:00:00: 26459.952135088384\n",
      "Predicted Highest Price for 2024-03-17 00:00:00: 26047.03128398921\n",
      "Predicted Highest Price for 2024-03-18 00:00:00: 25992.038503407966\n"
     ]
    }
   ],
   "source": [
    "train_size = int(len(df_BTC) * 0.8)\n",
    "train_data, test_data = df_BTC.iloc[:train_size], df_BTC.iloc[train_size:]\n",
    "\n",
    "# Define the SARIMA model\n",
    "order = (1, 1, 1)  # ARIMA order\n",
    "seasonal_order = (1, 1, 1, 12)  # SARIMA seasonal order\n",
    "sarima_model = SARIMAX(train_data['Highest Price (USD)'], order=order, seasonal_order=seasonal_order, enforce_stationarity=False)\n",
    "\n",
    "# Fit the SARIMA model\n",
    "sarima_result = sarima_model.fit()\n",
    "\n",
    "# Forecast future values\n",
    "forecast_periods = 7 \n",
    "forecast = sarima_result.forecast(steps=forecast_periods)\n",
    "\n",
    "# Create a range of future dates for the forecasted periods\n",
    "future_dates = pd.date_range(start=df_BTC.index[-1], periods=forecast_periods + 1, freq='D')[1:]  # Start from the day after the last date in the dataset\n",
    "\n",
    "# Print the forecasted values for each future date\n",
    "for date, prediction in zip(future_dates, forecast):\n",
    "    print(f\"Predicted Highest Price for {date}: {prediction}\")"
   ]
  },
  {
   "cell_type": "markdown",
   "id": "a9d13cb7",
   "metadata": {},
   "source": [
    "# Time Series\n"
   ]
  },
  {
   "cell_type": "code",
   "execution_count": 29,
   "id": "6af249ee",
   "metadata": {},
   "outputs": [
    {
     "ename": "ValueError",
     "evalue": "x is required to have ndim 1 but has ndim 2",
     "output_type": "error",
     "traceback": [
      "\u001b[0;31m---------------------------------------------------------------------------\u001b[0m",
      "\u001b[0;31mValueError\u001b[0m                                Traceback (most recent call last)",
      "Cell \u001b[0;32mIn[29], line 4\u001b[0m\n\u001b[1;32m      1\u001b[0m \u001b[38;5;28;01mfrom\u001b[39;00m \u001b[38;5;21;01mstatsmodels\u001b[39;00m\u001b[38;5;21;01m.\u001b[39;00m\u001b[38;5;21;01mtsa\u001b[39;00m\u001b[38;5;21;01m.\u001b[39;00m\u001b[38;5;21;01mstattools\u001b[39;00m \u001b[38;5;28;01mimport\u001b[39;00m adfuller\n\u001b[1;32m      3\u001b[0m \u001b[38;5;66;03m# Assuming your time series data is stored in a variable called 'ts_data'\u001b[39;00m\n\u001b[0;32m----> 4\u001b[0m result \u001b[38;5;241m=\u001b[39m adfuller(df_BTC)\n\u001b[1;32m      5\u001b[0m \u001b[38;5;28mprint\u001b[39m(\u001b[38;5;124m'\u001b[39m\u001b[38;5;124mADF Statistic:\u001b[39m\u001b[38;5;124m'\u001b[39m, result[\u001b[38;5;241m0\u001b[39m])\n\u001b[1;32m      6\u001b[0m \u001b[38;5;28mprint\u001b[39m(\u001b[38;5;124m'\u001b[39m\u001b[38;5;124mp-value:\u001b[39m\u001b[38;5;124m'\u001b[39m, result[\u001b[38;5;241m1\u001b[39m])\n",
      "File \u001b[0;32m~/anaconda3/lib/python3.11/site-packages/statsmodels/tsa/stattools.py:261\u001b[0m, in \u001b[0;36madfuller\u001b[0;34m(x, maxlag, regression, autolag, store, regresults)\u001b[0m\n\u001b[1;32m    166\u001b[0m \u001b[38;5;28;01mdef\u001b[39;00m \u001b[38;5;21madfuller\u001b[39m(\n\u001b[1;32m    167\u001b[0m     x,\n\u001b[1;32m    168\u001b[0m     maxlag: \u001b[38;5;28mint\u001b[39m \u001b[38;5;241m|\u001b[39m \u001b[38;5;28;01mNone\u001b[39;00m \u001b[38;5;241m=\u001b[39m \u001b[38;5;28;01mNone\u001b[39;00m,\n\u001b[0;32m   (...)\u001b[0m\n\u001b[1;32m    172\u001b[0m     regresults\u001b[38;5;241m=\u001b[39m\u001b[38;5;28;01mFalse\u001b[39;00m,\n\u001b[1;32m    173\u001b[0m ):\n\u001b[1;32m    174\u001b[0m \u001b[38;5;250m    \u001b[39m\u001b[38;5;124;03m\"\"\"\u001b[39;00m\n\u001b[1;32m    175\u001b[0m \u001b[38;5;124;03m    Augmented Dickey-Fuller unit root test.\u001b[39;00m\n\u001b[1;32m    176\u001b[0m \n\u001b[0;32m   (...)\u001b[0m\n\u001b[1;32m    259\u001b[0m \u001b[38;5;124;03m        http://ideas.repec.org/p/qed/wpaper/1227.html\u001b[39;00m\n\u001b[1;32m    260\u001b[0m \u001b[38;5;124;03m    \"\"\"\u001b[39;00m\n\u001b[0;32m--> 261\u001b[0m     x \u001b[38;5;241m=\u001b[39m array_like(x, \u001b[38;5;124m\"\u001b[39m\u001b[38;5;124mx\u001b[39m\u001b[38;5;124m\"\u001b[39m)\n\u001b[1;32m    262\u001b[0m     maxlag \u001b[38;5;241m=\u001b[39m int_like(maxlag, \u001b[38;5;124m\"\u001b[39m\u001b[38;5;124mmaxlag\u001b[39m\u001b[38;5;124m\"\u001b[39m, optional\u001b[38;5;241m=\u001b[39m\u001b[38;5;28;01mTrue\u001b[39;00m)\n\u001b[1;32m    263\u001b[0m     regression \u001b[38;5;241m=\u001b[39m string_like(\n\u001b[1;32m    264\u001b[0m         regression, \u001b[38;5;124m\"\u001b[39m\u001b[38;5;124mregression\u001b[39m\u001b[38;5;124m\"\u001b[39m, options\u001b[38;5;241m=\u001b[39m(\u001b[38;5;124m\"\u001b[39m\u001b[38;5;124mc\u001b[39m\u001b[38;5;124m\"\u001b[39m, \u001b[38;5;124m\"\u001b[39m\u001b[38;5;124mct\u001b[39m\u001b[38;5;124m\"\u001b[39m, \u001b[38;5;124m\"\u001b[39m\u001b[38;5;124mctt\u001b[39m\u001b[38;5;124m\"\u001b[39m, \u001b[38;5;124m\"\u001b[39m\u001b[38;5;124mn\u001b[39m\u001b[38;5;124m\"\u001b[39m)\n\u001b[1;32m    265\u001b[0m     )\n",
      "File \u001b[0;32m~/anaconda3/lib/python3.11/site-packages/statsmodels/tools/validation/validation.py:155\u001b[0m, in \u001b[0;36marray_like\u001b[0;34m(obj, name, dtype, ndim, maxdim, shape, order, contiguous, optional, writeable)\u001b[0m\n\u001b[1;32m    153\u001b[0m     \u001b[38;5;28;01mif\u001b[39;00m arr\u001b[38;5;241m.\u001b[39mndim \u001b[38;5;241m!=\u001b[39m ndim:\n\u001b[1;32m    154\u001b[0m         msg \u001b[38;5;241m=\u001b[39m \u001b[38;5;124m\"\u001b[39m\u001b[38;5;132;01m{0}\u001b[39;00m\u001b[38;5;124m is required to have ndim \u001b[39m\u001b[38;5;132;01m{1}\u001b[39;00m\u001b[38;5;124m but has ndim \u001b[39m\u001b[38;5;132;01m{2}\u001b[39;00m\u001b[38;5;124m\"\u001b[39m\n\u001b[0;32m--> 155\u001b[0m         \u001b[38;5;28;01mraise\u001b[39;00m \u001b[38;5;167;01mValueError\u001b[39;00m(msg\u001b[38;5;241m.\u001b[39mformat(name, ndim, arr\u001b[38;5;241m.\u001b[39mndim))\n\u001b[1;32m    156\u001b[0m \u001b[38;5;28;01mif\u001b[39;00m shape \u001b[38;5;129;01mis\u001b[39;00m \u001b[38;5;129;01mnot\u001b[39;00m \u001b[38;5;28;01mNone\u001b[39;00m:\n\u001b[1;32m    157\u001b[0m     \u001b[38;5;28;01mfor\u001b[39;00m actual, req \u001b[38;5;129;01min\u001b[39;00m \u001b[38;5;28mzip\u001b[39m(arr\u001b[38;5;241m.\u001b[39mshape, shape):\n",
      "\u001b[0;31mValueError\u001b[0m: x is required to have ndim 1 but has ndim 2"
     ]
    }
   ],
   "source": [
    "from statsmodels.tsa.stattools import adfuller\n",
    "\n",
    "# Assuming your time series data is stored in a variable called 'ts_data'\n",
    "result = adfuller(df_BTC)\n",
    "print('ADF Statistic:', result[0])\n",
    "print('p-value:', result[1])\n",
    "print('Critical Values:', result[4])"
   ]
  },
  {
   "cell_type": "code",
   "execution_count": 46,
   "id": "ebbf024c",
   "metadata": {
    "scrolled": true
   },
   "outputs": [
    {
     "name": "stderr",
     "output_type": "stream",
     "text": [
      "/Users/nikolasstahl/anaconda3/lib/python3.11/site-packages/statsmodels/tsa/base/tsa_model.py:473: ValueWarning: No frequency information was provided, so inferred frequency D will be used.\n",
      "  self._init_dates(dates, freq)\n",
      "/Users/nikolasstahl/anaconda3/lib/python3.11/site-packages/statsmodels/tsa/base/tsa_model.py:473: ValueWarning: No frequency information was provided, so inferred frequency D will be used.\n",
      "  self._init_dates(dates, freq)\n",
      " This problem is unconstrained.\n"
     ]
    },
    {
     "name": "stdout",
     "output_type": "stream",
     "text": [
      "RUNNING THE L-BFGS-B CODE\n",
      "\n",
      "           * * *\n",
      "\n",
      "Machine precision = 2.220D-16\n",
      " N =            6     M =           10\n",
      "\n",
      "At X0         0 variables are exactly at the bounds\n",
      "\n",
      "At iterate    0    f=  8.20204D+00    |proj g|=  4.95948D-02\n",
      "\n",
      "At iterate    5    f=  8.19963D+00    |proj g|=  3.48393D-03\n",
      "\n",
      "At iterate   10    f=  8.19868D+00    |proj g|=  1.12245D-02\n",
      "\n",
      "At iterate   15    f=  8.19833D+00    |proj g|=  7.90586D-04\n",
      "\n",
      "At iterate   20    f=  8.19830D+00    |proj g|=  1.55466D-03\n",
      "\n",
      "At iterate   25    f=  8.19665D+00    |proj g|=  8.21315D-03\n",
      "\n",
      "At iterate   30    f=  8.18945D+00    |proj g|=  5.13126D-02\n",
      "\n",
      "At iterate   35    f=  8.13130D+00    |proj g|=  4.33306D-02\n",
      "\n",
      "At iterate   40    f=  8.12533D+00    |proj g|=  1.32740D-02\n",
      "\n",
      "At iterate   45    f=  8.12157D+00    |proj g|=  7.24784D-03\n"
     ]
    },
    {
     "name": "stderr",
     "output_type": "stream",
     "text": [
      "/Users/nikolasstahl/anaconda3/lib/python3.11/site-packages/statsmodels/base/model.py:607: ConvergenceWarning: Maximum Likelihood optimization failed to converge. Check mle_retvals\n",
      "  warnings.warn(\"Maximum Likelihood optimization failed to \"\n"
     ]
    },
    {
     "name": "stdout",
     "output_type": "stream",
     "text": [
      "\n",
      "At iterate   50    f=  8.12146D+00    |proj g|=  2.49267D-05\n",
      "\n",
      "           * * *\n",
      "\n",
      "Tit   = total number of iterations\n",
      "Tnf   = total number of function evaluations\n",
      "Tnint = total number of segments explored during Cauchy searches\n",
      "Skip  = number of BFGS updates skipped\n",
      "Nact  = number of active bounds at final generalized Cauchy point\n",
      "Projg = norm of the final projected gradient\n",
      "F     = final function value\n",
      "\n",
      "           * * *\n",
      "\n",
      "   N    Tit     Tnf  Tnint  Skip  Nact     Projg        F\n",
      "    6     50     62      1     0     0   2.493D-05   8.121D+00\n",
      "  F =   8.1214606353080558     \n",
      "\n",
      "STOP: TOTAL NO. of ITERATIONS REACHED LIMIT                 \n",
      "Root Mean Squared Error (RMSE): 17977.03935295564\n"
     ]
    }
   ],
   "source": [
    "import pandas as pd\n",
    "from statsmodels.tsa.statespace.sarimax import SARIMAX\n",
    "from sklearn.metrics import mean_squared_error\n",
    "from math import sqrt\n",
    "\n",
    "\n",
    "# Split the data into training and testing sets\n",
    "train_size = int(len(df_BTC) * 0.8)\n",
    "train_data, test_data = df_BTC.iloc[:train_size], df_BTC.iloc[train_size:]\n",
    "\n",
    "\n",
    "order = (2, 1, 1)  \n",
    "seasonal_order = (1, 1, 1, 12)  # SARIMA seasonal order\n",
    "model = SARIMAX(train_data['Highest Price (USD)'], order=order, seasonal_order=seasonal_order, enforce_stationarity=False)\n",
    "\n",
    "sarima_model = model.fit()\n",
    "\n",
    "# Predictions\n",
    "start_index = len(train_data)\n",
    "end_index = start_index + len(test_data) - 1\n",
    "predictions = sarima_model.predict(start=start_index, end=end_index, dynamic=False)\n",
    "\n",
    "# Calculate RMSE (Root Mean Squared Error)\n",
    "mse = mean_squared_error(test_data['Highest Price (USD)'], predictions)\n",
    "rmse = sqrt(mse)\n",
    "print(\"Root Mean Squared Error (RMSE):\", rmse)\n",
    "\n",
    "\n",
    "# future_forecast = sarima_model.forecast(steps=7)\n"
   ]
  },
  {
   "cell_type": "code",
   "execution_count": 27,
   "id": "ac665e6f",
   "metadata": {
    "scrolled": false
   },
   "outputs": [
    {
     "data": {
      "text/plain": [
       "2023-08-25    26464.953783\n",
       "2023-08-26    26496.188539\n",
       "2023-08-27    26467.920784\n",
       "2023-08-28    26472.421535\n",
       "2023-08-29    26405.706561\n",
       "2023-08-30    26016.883636\n",
       "2023-08-31    25971.673896\n",
       "Freq: D, Name: predicted_mean, dtype: float64"
      ]
     },
     "execution_count": 27,
     "metadata": {},
     "output_type": "execute_result"
    }
   ],
   "source": [
    "future_forecast_TS = sarima_model.forecast(steps=7)\n",
    "future_forecast_TS"
   ]
  },
  {
   "cell_type": "code",
   "execution_count": null,
   "id": "6f4a7267",
   "metadata": {},
   "outputs": [],
   "source": []
  },
  {
   "cell_type": "code",
   "execution_count": null,
   "id": "bc754d4c",
   "metadata": {},
   "outputs": [],
   "source": []
  },
  {
   "cell_type": "code",
   "execution_count": null,
   "id": "f4342269",
   "metadata": {},
   "outputs": [],
   "source": []
  },
  {
   "cell_type": "code",
   "execution_count": null,
   "id": "e9f4d496",
   "metadata": {},
   "outputs": [],
   "source": []
  },
  {
   "cell_type": "markdown",
   "id": "c588dd25",
   "metadata": {},
   "source": [
    "# Prophet "
   ]
  },
  {
   "cell_type": "code",
   "execution_count": 7,
   "id": "66fd865f",
   "metadata": {},
   "outputs": [
    {
     "data": {
      "text/html": [
       "<div>\n",
       "<style scoped>\n",
       "    .dataframe tbody tr th:only-of-type {\n",
       "        vertical-align: middle;\n",
       "    }\n",
       "\n",
       "    .dataframe tbody tr th {\n",
       "        vertical-align: top;\n",
       "    }\n",
       "\n",
       "    .dataframe thead th {\n",
       "        text-align: right;\n",
       "    }\n",
       "</style>\n",
       "<table border=\"1\" class=\"dataframe\">\n",
       "  <thead>\n",
       "    <tr style=\"text-align: right;\">\n",
       "      <th></th>\n",
       "      <th>Opening Price (USD)</th>\n",
       "      <th>y</th>\n",
       "      <th>Lowest Price (USD)</th>\n",
       "      <th>Closing Price (USD)</th>\n",
       "      <th>5. volume</th>\n",
       "      <th>6. market cap (USD)</th>\n",
       "      <th>Difference between opening and closing</th>\n",
       "    </tr>\n",
       "  </thead>\n",
       "  <tbody>\n",
       "    <tr>\n",
       "      <th>2021-06-16</th>\n",
       "      <td>40143.80</td>\n",
       "      <td>40527.14</td>\n",
       "      <td>38116.01</td>\n",
       "      <td>38349.01</td>\n",
       "      <td>87771.98</td>\n",
       "      <td>87771.98</td>\n",
       "      <td>-1794.79</td>\n",
       "    </tr>\n",
       "    <tr>\n",
       "      <th>2021-06-17</th>\n",
       "      <td>38349.00</td>\n",
       "      <td>39559.88</td>\n",
       "      <td>37365.00</td>\n",
       "      <td>38092.97</td>\n",
       "      <td>79541.31</td>\n",
       "      <td>79541.31</td>\n",
       "      <td>-256.03</td>\n",
       "    </tr>\n",
       "    <tr>\n",
       "      <th>2021-06-18</th>\n",
       "      <td>38092.97</td>\n",
       "      <td>38202.84</td>\n",
       "      <td>35129.29</td>\n",
       "      <td>35819.84</td>\n",
       "      <td>95228.04</td>\n",
       "      <td>95228.04</td>\n",
       "      <td>-2273.13</td>\n",
       "    </tr>\n",
       "    <tr>\n",
       "      <th>2021-06-19</th>\n",
       "      <td>35820.48</td>\n",
       "      <td>36457.00</td>\n",
       "      <td>34803.52</td>\n",
       "      <td>35483.72</td>\n",
       "      <td>68712.45</td>\n",
       "      <td>68712.45</td>\n",
       "      <td>-336.76</td>\n",
       "    </tr>\n",
       "    <tr>\n",
       "      <th>2021-06-20</th>\n",
       "      <td>35483.72</td>\n",
       "      <td>36137.72</td>\n",
       "      <td>33336.00</td>\n",
       "      <td>35600.16</td>\n",
       "      <td>89878.17</td>\n",
       "      <td>89878.17</td>\n",
       "      <td>116.44</td>\n",
       "    </tr>\n",
       "    <tr>\n",
       "      <th>...</th>\n",
       "      <td>...</td>\n",
       "      <td>...</td>\n",
       "      <td>...</td>\n",
       "      <td>...</td>\n",
       "      <td>...</td>\n",
       "      <td>...</td>\n",
       "      <td>...</td>\n",
       "    </tr>\n",
       "    <tr>\n",
       "      <th>2024-03-07</th>\n",
       "      <td>66074.04</td>\n",
       "      <td>67980.00</td>\n",
       "      <td>65551.00</td>\n",
       "      <td>66823.17</td>\n",
       "      <td>53059.89</td>\n",
       "      <td>53059.89</td>\n",
       "      <td>749.13</td>\n",
       "    </tr>\n",
       "    <tr>\n",
       "      <th>2024-03-08</th>\n",
       "      <td>66823.18</td>\n",
       "      <td>69990.00</td>\n",
       "      <td>66082.66</td>\n",
       "      <td>68124.19</td>\n",
       "      <td>74261.93</td>\n",
       "      <td>74261.93</td>\n",
       "      <td>1301.01</td>\n",
       "    </tr>\n",
       "    <tr>\n",
       "      <th>2024-03-09</th>\n",
       "      <td>68124.20</td>\n",
       "      <td>68541.10</td>\n",
       "      <td>67861.10</td>\n",
       "      <td>68313.27</td>\n",
       "      <td>19872.90</td>\n",
       "      <td>19872.90</td>\n",
       "      <td>189.07</td>\n",
       "    </tr>\n",
       "    <tr>\n",
       "      <th>2024-03-10</th>\n",
       "      <td>68313.28</td>\n",
       "      <td>69887.61</td>\n",
       "      <td>68094.75</td>\n",
       "      <td>68955.88</td>\n",
       "      <td>38404.67</td>\n",
       "      <td>38404.67</td>\n",
       "      <td>642.60</td>\n",
       "    </tr>\n",
       "    <tr>\n",
       "      <th>2024-03-11</th>\n",
       "      <td>68955.88</td>\n",
       "      <td>68955.90</td>\n",
       "      <td>68480.76</td>\n",
       "      <td>68526.00</td>\n",
       "      <td>1025.19</td>\n",
       "      <td>1025.19</td>\n",
       "      <td>-429.88</td>\n",
       "    </tr>\n",
       "  </tbody>\n",
       "</table>\n",
       "<p>1000 rows × 7 columns</p>\n",
       "</div>"
      ],
      "text/plain": [
       "            Opening Price (USD)         y  Lowest Price (USD)  \\\n",
       "2021-06-16             40143.80  40527.14            38116.01   \n",
       "2021-06-17             38349.00  39559.88            37365.00   \n",
       "2021-06-18             38092.97  38202.84            35129.29   \n",
       "2021-06-19             35820.48  36457.00            34803.52   \n",
       "2021-06-20             35483.72  36137.72            33336.00   \n",
       "...                         ...       ...                 ...   \n",
       "2024-03-07             66074.04  67980.00            65551.00   \n",
       "2024-03-08             66823.18  69990.00            66082.66   \n",
       "2024-03-09             68124.20  68541.10            67861.10   \n",
       "2024-03-10             68313.28  69887.61            68094.75   \n",
       "2024-03-11             68955.88  68955.90            68480.76   \n",
       "\n",
       "            Closing Price (USD)  5. volume  6. market cap (USD)  \\\n",
       "2021-06-16             38349.01   87771.98             87771.98   \n",
       "2021-06-17             38092.97   79541.31             79541.31   \n",
       "2021-06-18             35819.84   95228.04             95228.04   \n",
       "2021-06-19             35483.72   68712.45             68712.45   \n",
       "2021-06-20             35600.16   89878.17             89878.17   \n",
       "...                         ...        ...                  ...   \n",
       "2024-03-07             66823.17   53059.89             53059.89   \n",
       "2024-03-08             68124.19   74261.93             74261.93   \n",
       "2024-03-09             68313.27   19872.90             19872.90   \n",
       "2024-03-10             68955.88   38404.67             38404.67   \n",
       "2024-03-11             68526.00    1025.19              1025.19   \n",
       "\n",
       "            Difference between opening and closing  \n",
       "2021-06-16                                -1794.79  \n",
       "2021-06-17                                 -256.03  \n",
       "2021-06-18                                -2273.13  \n",
       "2021-06-19                                 -336.76  \n",
       "2021-06-20                                  116.44  \n",
       "...                                            ...  \n",
       "2024-03-07                                  749.13  \n",
       "2024-03-08                                 1301.01  \n",
       "2024-03-09                                  189.07  \n",
       "2024-03-10                                  642.60  \n",
       "2024-03-11                                 -429.88  \n",
       "\n",
       "[1000 rows x 7 columns]"
      ]
     },
     "execution_count": 7,
     "metadata": {},
     "output_type": "execute_result"
    }
   ],
   "source": [
    "df_BTC"
   ]
  },
  {
   "cell_type": "code",
   "execution_count": 25,
   "id": "fa38d7b9",
   "metadata": {},
   "outputs": [
    {
     "name": "stdout",
     "output_type": "stream",
     "text": [
      "Predicted highest prices for future dates:\n",
      "2024-03-12 00:00:00: 69853.49647791797\n"
     ]
    }
   ],
   "source": [
    "degree = 2  # Degree of polynomial features\n",
    "polyreg = make_pipeline(PolynomialFeatures(degree), LinearRegression())\n",
    "\n",
    "# Features and target variable\n",
    "X = df_BTC[['Closing Price (USD)']]\n",
    "y = df_BTC['y']\n",
    "\n",
    "# Fit the model\n",
    "polyreg.fit(X, y)\n",
    "\n",
    "# Make future predictions (let's say predicting for the next 30 days)\n",
    "future_dates = pd.date_range(start='2024-03-12', periods=30, freq='D')\n",
    "last_available_data = df_BTC.iloc[-1]\n",
    "future_X = pd.DataFrame({'Closing Price (USD)': [last_available_data['Closing Price (USD)']]}, index=[future_dates[0]])\n",
    "future_y = polyreg.predict(future_X)\n",
    "\n",
    "# Print future predictions\n",
    "print(\"Predicted highest prices for future dates:\")\n",
    "for date, price in zip(future_dates, future_y):\n",
    "    print(f\"{date}: {price}\")\n"
   ]
  }
 ],
 "metadata": {
  "kernelspec": {
   "display_name": "prophet",
   "language": "python",
   "name": "prophet"
  },
  "language_info": {
   "codemirror_mode": {
    "name": "ipython",
    "version": 3
   },
   "file_extension": ".py",
   "mimetype": "text/x-python",
   "name": "python",
   "nbconvert_exporter": "python",
   "pygments_lexer": "ipython3",
   "version": "3.11.5"
  }
 },
 "nbformat": 4,
 "nbformat_minor": 5
}

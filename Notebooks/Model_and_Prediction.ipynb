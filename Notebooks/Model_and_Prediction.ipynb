{
 "cells": [
  {
   "cell_type": "code",
   "execution_count": 23,
   "id": "e0cd8162",
   "metadata": {},
   "outputs": [],
   "source": [
    "import pandas as pd \n",
    "from sklearn.model_selection import train_test_split, GridSearchCV\n",
    "from sklearn.ensemble import RandomForestRegressor\n",
    "from sklearn.metrics import mean_squared_error\n",
    "from sklearn.preprocessing import StandardScaler\n",
    "from sklearn.pipeline import Pipeline\n",
    "from statsmodels.tsa.statespace.sarimax import SARIMAX\n",
    "from sklearn.metrics import mean_squared_error\n",
    "from math import sqrt\n",
    "from sklearn.pipeline import make_pipeline\n",
    "from sklearn.preprocessing import PolynomialFeatures"
   ]
  },
  {
   "cell_type": "markdown",
   "id": "7b6b281d",
   "metadata": {},
   "source": [
    "# Importing CSV Files"
   ]
  },
  {
   "cell_type": "code",
   "execution_count": 187,
   "id": "80daaa17",
   "metadata": {},
   "outputs": [],
   "source": [
    "df_BTC = pd.read_csv(\"BTC_Historical_11-03.csv\", index_col=0)\n",
    "df_DOGE = pd.read_csv(\"DOGE_Historical_11-03.csv\", index_col=0)\n",
    "df_XRP = pd.read_csv(\"XRP_Historical_11-03.csv\", index_col=0)\n",
    "df_ETH = pd.read_csv(\"ETH_Historical_11-03.csv\", index_col=0)\n",
    "df_UNI = pd.read_csv(\"UNI_Historical_11-03.csv\", index_col=0)\n",
    "df_BTC_copy = pd.read_csv(\"BTC_Historical_11-03.csv\", index_col=0)\n"
   ]
  },
  {
   "cell_type": "markdown",
   "id": "c588dd25",
   "metadata": {},
   "source": [
    "# LINREQ"
   ]
  },
  {
   "cell_type": "code",
   "execution_count": 32,
   "id": "590842dc",
   "metadata": {},
   "outputs": [],
   "source": [
    "# BTC"
   ]
  },
  {
   "cell_type": "code",
   "execution_count": 132,
   "id": "fa38d7b9",
   "metadata": {},
   "outputs": [
    {
     "name": "stdout",
     "output_type": "stream",
     "text": [
      "Predicted highest prices for future dates:\n",
      "2024-03-12 00:00:00: 69853.49647791797\n"
     ]
    }
   ],
   "source": [
    "degree = 2  # Degree of polynomial features\n",
    "polyreg = make_pipeline(PolynomialFeatures(degree), LinearRegression())\n",
    "\n",
    "# Features and target variable\n",
    "X = df_BTC[['Closing Price (USD)']]\n",
    "y = df_BTC['y']\n",
    "\n",
    "# Fit the model\n",
    "polyreg.fit(X, y)\n",
    "\n",
    "# Make future predictions (let's say predicting for the next 30 days)\n",
    "future_dates = pd.date_range(start='2024-03-12', periods=30, freq='D')\n",
    "last_available_data = df_BTC.iloc[-1]\n",
    "future_X = pd.DataFrame({'Closing Price (USD)': [last_available_data['Closing Price (USD)']]}, index=[future_dates[0]])\n",
    "future_y = polyreg.predict(future_X)\n",
    "\n",
    "# Print future predictions\n",
    "print(\"Predicted highest prices for future dates:\")\n",
    "for date, price in zip(future_dates, future_y):\n",
    "    print(f\"{date}: {price}\")"
   ]
  },
  {
   "cell_type": "code",
   "execution_count": 134,
   "id": "eee563e7",
   "metadata": {},
   "outputs": [
    {
     "name": "stdout",
     "output_type": "stream",
     "text": [
      "Predicted lowest prices for future dates:\n",
      "2024-03-12 00:00:00: 66348.70923459053\n"
     ]
    }
   ],
   "source": [
    "degree = 2  # Degree of polynomial features\n",
    "polyreg = make_pipeline(PolynomialFeatures(degree), LinearRegression())\n",
    "\n",
    "# Features and target variable\n",
    "X = df_BTC[['Closing Price (USD)']]\n",
    "y = df_BTC['Lowest Price (USD)']\n",
    "\n",
    "# Fit the model\n",
    "polyreg.fit(X, y)\n",
    "\n",
    "# Make future predictions (let's say predicting for the next 30 days)\n",
    "future_dates = pd.date_range(start='2024-03-12', periods=30, freq='D')\n",
    "last_available_data = df_BTC.iloc[-1]\n",
    "future_X = pd.DataFrame({'Closing Price (USD)': [last_available_data['Closing Price (USD)']]}, index=[future_dates[0]])\n",
    "future_y = polyreg.predict(future_X)\n",
    "\n",
    "# Print future predictions\n",
    "print(\"Predicted lowest prices for future dates:\")\n",
    "for date, price in zip(future_dates, future_y):\n",
    "    print(f\"{date}: {price}\")"
   ]
  },
  {
   "cell_type": "code",
   "execution_count": 144,
   "id": "ecf58353",
   "metadata": {},
   "outputs": [],
   "source": [
    "btc_high_pred = 69853.49647791797\n",
    "btc_low_pred = 66348.70923459053"
   ]
  },
  {
   "cell_type": "code",
   "execution_count": 170,
   "id": "a0cd3509",
   "metadata": {},
   "outputs": [
    {
     "name": "stderr",
     "output_type": "stream",
     "text": [
      "/var/folders/sz/x51nf6p57096mncqbrxctq940000gn/T/ipykernel_10389/2375387423.py:4: SettingWithCopyWarning: \n",
      "A value is trying to be set on a copy of a slice from a DataFrame\n",
      "\n",
      "See the caveats in the documentation: https://pandas.pydata.org/pandas-docs/stable/user_guide/indexing.html#returning-a-view-versus-a-copy\n",
      "  df_BTC_pred.loc[new_date] = pred_value\n"
     ]
    }
   ],
   "source": [
    "df_BTC_pred = df_BTC[[\"y\", \"Lowest Price (USD)\"]]\n",
    "new_date = pd.to_datetime('2024-03-12')\n",
    "pred_value = [btc_high_pred, btc_low_pred]\n",
    "df_BTC_pred.loc[new_date] = pred_value"
   ]
  },
  {
   "cell_type": "code",
   "execution_count": 188,
   "id": "d8c934f6",
   "metadata": {},
   "outputs": [],
   "source": [
    "# BTC copy"
   ]
  },
  {
   "cell_type": "code",
   "execution_count": 203,
   "id": "54b88f65",
   "metadata": {},
   "outputs": [
    {
     "name": "stdout",
     "output_type": "stream",
     "text": [
      "Predicted highest prices for future dates:\n",
      "2024-03-12 00:00:00: 71999.8493557355\n"
     ]
    }
   ],
   "source": [
    "degree = 5\n",
    "\n",
    "# Initialize polynomial regression model\n",
    "polyreg = make_pipeline(PolynomialFeatures(degree), LinearRegression())\n",
    "\n",
    "# Features and target variable\n",
    "X = df_BTC_copy[['Closing Price (USD)']]\n",
    "y = df_BTC['Highest Price (USD)']\n",
    "\n",
    "# Fit the model\n",
    "polyreg.fit(X, y)\n",
    "\n",
    "# Make future predictions (let's say predicting for the next 30 days)\n",
    "future_dates = pd.date_range(start='2024-03-12', periods=30, freq='D')\n",
    "future_X = pd.DataFrame({'Closing Price (USD)': [68526]}, index=[future_dates[0]])\n",
    "future_y = polyreg.predict(future_X)\n",
    "\n",
    "# Print future predictions\n",
    "print(\"Predicted highest prices for future dates:\")\n",
    "for date, price in zip(future_dates, future_y):\n",
    "    print(f\"{date}: {price}\")"
   ]
  },
  {
   "cell_type": "code",
   "execution_count": 204,
   "id": "b056e96a",
   "metadata": {},
   "outputs": [
    {
     "name": "stdout",
     "output_type": "stream",
     "text": [
      "Predicted lowest prices for future dates:\n",
      "2024-03-12 00:00:00: 68756.58238189445\n"
     ]
    }
   ],
   "source": [
    "degree = 5\n",
    "\n",
    "# Initialize polynomial regression model\n",
    "polyreg = make_pipeline(PolynomialFeatures(degree), LinearRegression())\n",
    "\n",
    "# Features and target variable\n",
    "X = df_BTC_copy[['Closing Price (USD)']]\n",
    "y = df_BTC_copy['Lowest Price (USD)']\n",
    "\n",
    "# Fit the model\n",
    "polyreg.fit(X, y)\n",
    "\n",
    "# Make future predictions (let's say predicting for the next 30 days)\n",
    "future_dates = pd.date_range(start='2024-03-12', periods=30, freq='D')\n",
    "future_X = pd.DataFrame({'Closing Price (USD)': [68526]}, index=[future_dates[0]])\n",
    "future_y = polyreg.predict(future_X)\n",
    "\n",
    "# Print future predictions\n",
    "print(\"Predicted lowest prices for future dates:\")\n",
    "for date, price in zip(future_dates, future_y):\n",
    "    print(f\"{date}: {price}\")"
   ]
  },
  {
   "cell_type": "code",
   "execution_count": 205,
   "id": "558aa2ac",
   "metadata": {},
   "outputs": [],
   "source": [
    "btc_high_pred = 71999.8493557355\n",
    "btc_low_pred = 68756.58238189445"
   ]
  },
  {
   "cell_type": "code",
   "execution_count": 33,
   "id": "68ab8e7d",
   "metadata": {},
   "outputs": [],
   "source": [
    "# DOGE"
   ]
  },
  {
   "cell_type": "code",
   "execution_count": 189,
   "id": "441375db",
   "metadata": {},
   "outputs": [
    {
     "name": "stdout",
     "output_type": "stream",
     "text": [
      "Predicted highest prices for future dates:\n",
      "2024-03-12 00:00:00: 0.179185988270293\n"
     ]
    }
   ],
   "source": [
    "degree = 5\n",
    "\n",
    "# Initialize polynomial regression model\n",
    "polyreg = make_pipeline(PolynomialFeatures(degree), LinearRegression())\n",
    "\n",
    "# Features and target variable\n",
    "X = df_DOGE[['Closing Price (USD)']]\n",
    "y = df_DOGE['Highest Price (USD)']\n",
    "\n",
    "# Fit the model\n",
    "polyreg.fit(X, y)\n",
    "\n",
    "# Make future predictions (let's say predicting for the next 30 days)\n",
    "future_dates = pd.date_range(start='2024-03-12', periods=30, freq='D')\n",
    "future_X = pd.DataFrame({'Closing Price (USD)': [0.17]}, index=[future_dates[0]])\n",
    "future_y = polyreg.predict(future_X)\n",
    "\n",
    "# Print future predictions\n",
    "print(\"Predicted highest prices for future dates:\")\n",
    "for date, price in zip(future_dates, future_y):\n",
    "    print(f\"{date}: {price}\")"
   ]
  },
  {
   "cell_type": "code",
   "execution_count": 190,
   "id": "106e15af",
   "metadata": {},
   "outputs": [
    {
     "name": "stdout",
     "output_type": "stream",
     "text": [
      "Predicted lowest prices for future dates:\n",
      "2024-03-12 00:00:00: 0.16270525360652066\n"
     ]
    }
   ],
   "source": [
    "degree = 5\n",
    "\n",
    "# Initialize polynomial regression model\n",
    "polyreg = make_pipeline(PolynomialFeatures(degree), LinearRegression())\n",
    "\n",
    "# Features and target variable\n",
    "X = df_DOGE[['Closing Price (USD)']]\n",
    "y = df_DOGE['Lowest Price (USD)']\n",
    "\n",
    "# Fit the model\n",
    "polyreg.fit(X, y)\n",
    "\n",
    "# Make future predictions (let's say predicting for the next 30 days)\n",
    "future_dates = pd.date_range(start='2024-03-12', periods=30, freq='D')\n",
    "future_X = pd.DataFrame({'Closing Price (USD)': [0.17]}, index=[future_dates[0]])\n",
    "future_y = polyreg.predict(future_X)\n",
    "\n",
    "# Print future predictions\n",
    "print(\"Predicted lowest prices for future dates:\")\n",
    "for date, price in zip(future_dates, future_y):\n",
    "    print(f\"{date}: {price}\")"
   ]
  },
  {
   "cell_type": "code",
   "execution_count": 193,
   "id": "407858f2",
   "metadata": {},
   "outputs": [],
   "source": [
    "DOGE_high_pred = 0.179185988270293\n",
    "DOGE_low_pred = 0.16270525360652066"
   ]
  },
  {
   "cell_type": "code",
   "execution_count": 38,
   "id": "58e0f912",
   "metadata": {},
   "outputs": [],
   "source": [
    "# Etherum"
   ]
  },
  {
   "cell_type": "code",
   "execution_count": 194,
   "id": "c3243236",
   "metadata": {},
   "outputs": [
    {
     "name": "stdout",
     "output_type": "stream",
     "text": [
      "Predicted highest prices for future dates:\n",
      "2024-03-12 00:00:00: 3923.0733362897136\n"
     ]
    }
   ],
   "source": [
    "degree = 5\n",
    "\n",
    "# Initialize polynomial regression model\n",
    "polyreg = make_pipeline(PolynomialFeatures(degree), LinearRegression())\n",
    "\n",
    "# Features and target variable\n",
    "X = df_ETH[['Closing Price (USD)']]\n",
    "y = df_ETH['Highest Price (USD)']\n",
    "\n",
    "# Fit the model\n",
    "polyreg.fit(X, y)\n",
    "\n",
    "# Make future predictions (let's say predicting for the next 30 days)\n",
    "future_dates = pd.date_range(start='2024-03-12', periods=30, freq='D')\n",
    "future_X = pd.DataFrame({'Closing Price (USD)': [3817.03]}, index=[future_dates[0]])\n",
    "future_y = polyreg.predict(future_X)\n",
    "\n",
    "# Print future predictions\n",
    "print(\"Predicted highest prices for future dates:\")\n",
    "for date, price in zip(future_dates, future_y):\n",
    "    print(f\"{date}: {price}\")"
   ]
  },
  {
   "cell_type": "code",
   "execution_count": 195,
   "id": "4858c3ec",
   "metadata": {},
   "outputs": [
    {
     "name": "stdout",
     "output_type": "stream",
     "text": [
      "Predicted lowest prices for future dates:\n",
      "2024-03-12 00:00:00: 3678.9589765217825\n"
     ]
    }
   ],
   "source": [
    "degree = 5\n",
    "\n",
    "# Initialize polynomial regression model\n",
    "polyreg = make_pipeline(PolynomialFeatures(degree), LinearRegression())\n",
    "\n",
    "# Features and target variable\n",
    "X = df_ETH[['Closing Price (USD)']]\n",
    "y = df_ETH['Lowest Price (USD)']\n",
    "\n",
    "# Fit the model\n",
    "polyreg.fit(X, y)\n",
    "\n",
    "# Make future predictions (let's say predicting for the next 30 days)\n",
    "future_dates = pd.date_range(start='2024-03-12', periods=30, freq='D')\n",
    "future_X = pd.DataFrame({'Closing Price (USD)': [3817.03]}, index=[future_dates[0]])\n",
    "future_y = polyreg.predict(future_X)\n",
    "\n",
    "# Print future predictions\n",
    "print(\"Predicted lowest prices for future dates:\")\n",
    "for date, price in zip(future_dates, future_y):\n",
    "    print(f\"{date}: {price}\")"
   ]
  },
  {
   "cell_type": "code",
   "execution_count": 196,
   "id": "fe78b097",
   "metadata": {},
   "outputs": [],
   "source": [
    "ETH_high_pred = 3923.0733362897136\n",
    "ETH_low_pred = 3678.9589765217825"
   ]
  },
  {
   "cell_type": "code",
   "execution_count": 41,
   "id": "158b5c81",
   "metadata": {},
   "outputs": [],
   "source": [
    "# XRP"
   ]
  },
  {
   "cell_type": "code",
   "execution_count": 197,
   "id": "2d7f894a",
   "metadata": {},
   "outputs": [
    {
     "name": "stdout",
     "output_type": "stream",
     "text": [
      "Predicted highest prices for future dates:\n",
      "2024-03-12 00:00:00: 0.6171763695870979\n"
     ]
    }
   ],
   "source": [
    "degree = 5\n",
    "\n",
    "# Initialize polynomial regression model\n",
    "polyreg = make_pipeline(PolynomialFeatures(degree), LinearRegression())\n",
    "\n",
    "# Features and target variable\n",
    "X = df_XRP[['Closing Price (USD)']]\n",
    "y = df_XRP['Highest Price (USD)']\n",
    "\n",
    "# Fit the model\n",
    "polyreg.fit(X, y)\n",
    "\n",
    "# Make future predictions (let's say predicting for the next 30 days)\n",
    "future_dates = pd.date_range(start='2024-03-12', periods=30, freq='D')\n",
    "future_X = pd.DataFrame({'Closing Price (USD)': [0.6]}, index=[future_dates[0]])\n",
    "future_y = polyreg.predict(future_X)\n",
    "\n",
    "# Print future predictions\n",
    "print(\"Predicted highest prices for future dates:\")\n",
    "for date, price in zip(future_dates, future_y):\n",
    "    print(f\"{date}: {price}\")"
   ]
  },
  {
   "cell_type": "code",
   "execution_count": 198,
   "id": "06a409ed",
   "metadata": {},
   "outputs": [
    {
     "name": "stdout",
     "output_type": "stream",
     "text": [
      "Predicted lowest prices for future dates:\n",
      "2024-03-12 00:00:00: 0.580943608931109\n"
     ]
    }
   ],
   "source": [
    "degree = 5\n",
    "\n",
    "# Initialize polynomial regression model\n",
    "polyreg = make_pipeline(PolynomialFeatures(degree), LinearRegression())\n",
    "\n",
    "# Features and target variable\n",
    "X = df_XRP[['Closing Price (USD)']]\n",
    "y = df_XRP['Lowest Price (USD)']\n",
    "\n",
    "# Fit the model\n",
    "polyreg.fit(X, y)\n",
    "\n",
    "# Make future predictions (let's say predicting for the next 30 days)\n",
    "future_dates = pd.date_range(start='2024-03-12', periods=30, freq='D')\n",
    "future_X = pd.DataFrame({'Closing Price (USD)': [0.6]}, index=[future_dates[0]])\n",
    "future_y = polyreg.predict(future_X)\n",
    "\n",
    "# Print future predictions\n",
    "print(\"Predicted lowest prices for future dates:\")\n",
    "for date, price in zip(future_dates, future_y):\n",
    "    print(f\"{date}: {price}\")"
   ]
  },
  {
   "cell_type": "code",
   "execution_count": 199,
   "id": "bdd7e694",
   "metadata": {},
   "outputs": [],
   "source": [
    "XRP_high_pred = 0.6171763695870979\n",
    "XRP_low_pred = 0.580943608931109"
   ]
  },
  {
   "cell_type": "code",
   "execution_count": 46,
   "id": "b234a86d",
   "metadata": {},
   "outputs": [],
   "source": [
    "# UNI"
   ]
  },
  {
   "cell_type": "code",
   "execution_count": 99,
   "id": "a4331c3d",
   "metadata": {},
   "outputs": [
    {
     "name": "stdout",
     "output_type": "stream",
     "text": [
      "Predicted highest prices for future dates:\n",
      "2024-03-12 00:00:00: 14.94103422104355\n"
     ]
    }
   ],
   "source": [
    "degree = 5\n",
    "\n",
    "\n",
    "# Initialize polynomial regression model\n",
    "polyreg = make_pipeline(PolynomialFeatures(degree), LinearRegression())\n",
    "\n",
    "# Features and target variable\n",
    "X = df_UNI[['Closing Price (USD)']]\n",
    "y = df_UNI['Highest Price (USD)']\n",
    "\n",
    "# Fit the model\n",
    "polyreg.fit(X, y)\n",
    "\n",
    "future_dates = pd.date_range(start='2024-03-12', periods=7, freq='D')\n",
    "future_X = pd.DataFrame({'Closing Price (USD)': [14.13]}, index=[future_dates[0]])\n",
    "future_y = polyreg.predict(future_X)\n",
    "\n",
    "# Print future predictions\n",
    "print(\"Predicted highest prices for future dates:\")\n",
    "for date, price in zip(future_dates, future_y):\n",
    "    print(f\"{date}: {price}\")"
   ]
  },
  {
   "cell_type": "code",
   "execution_count": 109,
   "id": "f5c2b57e",
   "metadata": {},
   "outputs": [
    {
     "name": "stdout",
     "output_type": "stream",
     "text": [
      "Predicted lowest prices for future dates:\n",
      "2024-03-12 00:00:00: 13.4086553139549\n"
     ]
    }
   ],
   "source": [
    "degree = 5\n",
    "\n",
    "\n",
    "# Initialize polynomial regression model\n",
    "polyreg = make_pipeline(PolynomialFeatures(degree), LinearRegression())\n",
    "\n",
    "# Features and target variable\n",
    "X = df_UNI[['Closing Price (USD)']]\n",
    "y = df_UNI['Lowest Price (USD)']\n",
    "\n",
    "# Fit the model\n",
    "polyreg.fit(X, y)\n",
    "\n",
    "future_dates = pd.date_range(start='2024-03-12', periods=7, freq='D')\n",
    "future_X = pd.DataFrame({'Closing Price (USD)': [14.13]}, index=[future_dates[0]])\n",
    "future_y = polyreg.predict(future_X)\n",
    "\n",
    "# Print future predictions\n",
    "print(\"Predicted lowest prices for future dates:\")\n",
    "for date, price in zip(future_dates, future_y):\n",
    "    print(f\"{date}: {price}\")"
   ]
  },
  {
   "cell_type": "code",
   "execution_count": 151,
   "id": "1dfaa5e9",
   "metadata": {},
   "outputs": [],
   "source": [
    "UNI_high_pred = 14.94\n",
    "UNI_low_pred = 13.41"
   ]
  },
  {
   "cell_type": "markdown",
   "id": "5c7dbb6f",
   "metadata": {},
   "source": [
    "# Adding the predicted results to the dataframe"
   ]
  },
  {
   "cell_type": "code",
   "execution_count": 185,
   "id": "189987fc",
   "metadata": {},
   "outputs": [],
   "source": [
    "def add_new_row(df, highest_price, lowest_price):\n",
    "    # Make a copy of the original DataFrame with only desired columns\n",
    "    new_df = df[['Highest Price (USD)', 'Lowest Price (USD)']].copy()\n",
    "    \n",
    "    # New data to add\n",
    "    new_date = pd.to_datetime('2024-03-12')\n",
    "    new_row = {'Highest Price (USD)': highest_price, 'Lowest Price (USD)': lowest_price}\n",
    "\n",
    "    # Append the new row\n",
    "    new_df.loc[new_date.strftime('%Y-%m-%d')] = new_row\n",
    "\n",
    "    return new_df"
   ]
  },
  {
   "cell_type": "code",
   "execution_count": 213,
   "id": "8d2ac3f9",
   "metadata": {},
   "outputs": [],
   "source": [
    "df_BTC_pred = add_new_row(df_BTC_copy, btc_high_pred, btc_low_pred)\n",
    "df_ETH_pred = add_new_row(df_ETH, ETH_high_pred, ETH_low_pred)\n",
    "df_DOGE_pred = add_new_row(df_DOGE, DOGE_high_pred, DOGE_low_pred)\n",
    "df_XRP_pred = add_new_row(df_XRP, XRP_high_pred, XRP_low_pred)\n",
    "df_UNI_pred = add_new_row(df_UNI, UNI_high_pred, UNI_low_pred)"
   ]
  },
  {
   "cell_type": "markdown",
   "id": "91d1b23a",
   "metadata": {},
   "source": [
    "# Exporting these dataframes"
   ]
  },
  {
   "cell_type": "code",
   "execution_count": 214,
   "id": "7379cc1c",
   "metadata": {},
   "outputs": [],
   "source": [
    "def exporting_dataframe(df, filename):\n",
    "    df.to_csv(f'{filename}.csv', index=True)"
   ]
  },
  {
   "cell_type": "code",
   "execution_count": 216,
   "id": "5b4a8a4d",
   "metadata": {},
   "outputs": [],
   "source": [
    "exporting_dataframe(df_BTC_pred, 'BTC_With_Prediction')\n",
    "exporting_dataframe(df_ETH_pred, 'ETH_With_Prediction')\n",
    "exporting_dataframe(df_DOGE_pred, 'DOGE_With_Prediction')\n",
    "exporting_dataframe(df_XRP_pred, 'XRP_With_Prediction')\n",
    "exporting_dataframe(df_UNI_pred, 'UNI_With_Prediction')"
   ]
  }
 ],
 "metadata": {
  "kernelspec": {
   "display_name": "prophet",
   "language": "python",
   "name": "prophet"
  },
  "language_info": {
   "codemirror_mode": {
    "name": "ipython",
    "version": 3
   },
   "file_extension": ".py",
   "mimetype": "text/x-python",
   "name": "python",
   "nbconvert_exporter": "python",
   "pygments_lexer": "ipython3",
   "version": "3.11.5"
  }
 },
 "nbformat": 4,
 "nbformat_minor": 5
}

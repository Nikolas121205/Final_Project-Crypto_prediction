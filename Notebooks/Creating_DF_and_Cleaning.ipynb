{
 "cells": [
  {
   "cell_type": "code",
   "execution_count": 61,
   "id": "4d2238da",
   "metadata": {},
   "outputs": [],
   "source": [
    "import requests\n",
    "import pandas as pd\n",
    "import matplotlib.pyplot as plt\n",
    "import seaborn as sns\n",
    "import numpy as np\n",
    "import datetime\n",
    "import getpass\n",
    "from sklearn.model_selection import train_test_split\n",
    "from sklearn.ensemble import RandomForestRegressor\n",
    "from sklearn.metrics import mean_squared_error\n",
    "from datetime import datetime\n"
   ]
  },
  {
   "cell_type": "markdown",
   "id": "70108eef",
   "metadata": {},
   "source": [
    "# Using the API to create a dataframe that will be used to predict the Crypto Market"
   ]
  },
  {
   "cell_type": "code",
   "execution_count": 64,
   "id": "416f68e6",
   "metadata": {
    "scrolled": true
   },
   "outputs": [
    {
     "name": "stdout",
     "output_type": "stream",
     "text": [
      "Enter your API KEY: ········\n"
     ]
    }
   ],
   "source": [
    "API_KEY = getpass.getpass(\"Enter your API KEY: \")"
   ]
  },
  {
   "cell_type": "code",
   "execution_count": 67,
   "id": "d2e60b89",
   "metadata": {},
   "outputs": [],
   "source": [
    "def fetch_crypto_data(symbol, market):\n",
    "    url = f'https://www.alphavantage.co/query?function=DIGITAL_CURRENCY_DAILY&symbol={symbol}&market={market}&apikey={API_KEY}'\n",
    "    response = requests.get(url)\n",
    "    if response.status_code == 200:\n",
    "        data = response.json()\n",
    "        if 'Time Series (Digital Currency Daily)' in data:\n",
    "            crypto_data = data['Time Series (Digital Currency Daily)']\n",
    "            df = pd.DataFrame(crypto_data).T\n",
    "            df.index = pd.to_datetime(df.index)\n",
    "            df.sort_index(inplace=True)\n",
    "            return df\n",
    "    return None"
   ]
  },
  {
   "cell_type": "code",
   "execution_count": 55,
   "id": "df1502d9",
   "metadata": {},
   "outputs": [],
   "source": [
    "df_BTC = fetch_crypto_data('BTC', 'EUR')"
   ]
  },
  {
   "cell_type": "code",
   "execution_count": null,
   "id": "b55ed5eb",
   "metadata": {},
   "outputs": [],
   "source": [
    "df_ETH = fetch_crypto_data('ETH', 'EUR')"
   ]
  },
  {
   "cell_type": "code",
   "execution_count": null,
   "id": "695075b8",
   "metadata": {},
   "outputs": [],
   "source": [
    "df_XRP = fetch_crypto_data('XRP', 'EUR')"
   ]
  },
  {
   "cell_type": "code",
   "execution_count": null,
   "id": "4552bbc3",
   "metadata": {},
   "outputs": [],
   "source": [
    "df_DOGE = fetch_crypto_data('DOGE', 'EUR')"
   ]
  },
  {
   "cell_type": "code",
   "execution_count": null,
   "id": "3d2a0554",
   "metadata": {},
   "outputs": [],
   "source": [
    "df_UNI = fetch_crypto_data('UNI', 'EUR')"
   ]
  },
  {
   "cell_type": "code",
   "execution_count": 68,
   "id": "ad1b3e25",
   "metadata": {},
   "outputs": [],
   "source": [
    "df_BTC_13_03 = fetch_crypto_data('BTC', 'EUR')"
   ]
  },
  {
   "cell_type": "code",
   "execution_count": 47,
   "id": "262bb5c5",
   "metadata": {},
   "outputs": [],
   "source": [
    "df_ETH_13_03 = fetch_crypto_data('ETH', 'EUR')"
   ]
  },
  {
   "cell_type": "code",
   "execution_count": 37,
   "id": "d093b1eb",
   "metadata": {},
   "outputs": [],
   "source": [
    "df_XRP_13_03 = fetch_crypto_data('XRP', 'EUR')"
   ]
  },
  {
   "cell_type": "code",
   "execution_count": 38,
   "id": "9b9e677d",
   "metadata": {},
   "outputs": [],
   "source": [
    "df_DOGE_13_03 = fetch_crypto_data('DOGE', 'EUR')"
   ]
  },
  {
   "cell_type": "code",
   "execution_count": 39,
   "id": "55f374a9",
   "metadata": {},
   "outputs": [],
   "source": [
    "df_UNI_13_03 = fetch_crypto_data('UNI', 'EUR')"
   ]
  },
  {
   "cell_type": "markdown",
   "id": "3ad61fc6",
   "metadata": {},
   "source": [
    "## Cleaning up the Dataframe making it more readable"
   ]
  },
  {
   "cell_type": "code",
   "execution_count": 14,
   "id": "98d8b69f",
   "metadata": {},
   "outputs": [],
   "source": [
    "def format_dataframe(df):\n",
    "    for column in df.columns:\n",
    "        if column.lower() in ['volume', 'market cap (usd)']:\n",
    "            continue  # Skip formatting for these columns\n",
    "        # Format values to have exactly 2 decimal points\n",
    "        df[column] = df[column].apply(lambda x: \"{:.2f}\".format(float(x)))\n",
    "    return df"
   ]
  },
  {
   "cell_type": "code",
   "execution_count": 41,
   "id": "92b0509d",
   "metadata": {},
   "outputs": [],
   "source": [
    "def cleaning(df):\n",
    "    df.drop(columns=['1a. open (EUR)', '2a. high (EUR)', '3a. low (EUR)', '4a. close (EUR)'], inplace = True)\n",
    "    df.rename(columns={\"1b. open (USD)\": \"Opening Price (USD)\", \"2b. high (USD)\": \"Highest Price (USD)\", \"3b. low (USD)\": \"Lowest Price (USD)\", \"4b. close (USD)\": \"Closing Price (USD)\"}, inplace = True)\n",
    "    format_dataframe(df)\n",
    "    formatted_df = format_dataframe(df)    "
   ]
  },
  {
   "cell_type": "code",
   "execution_count": null,
   "id": "06542d1a",
   "metadata": {},
   "outputs": [],
   "source": [
    "cleaning(df_BTC_13_03)"
   ]
  },
  {
   "cell_type": "code",
   "execution_count": 48,
   "id": "70b5a6c4",
   "metadata": {},
   "outputs": [
    {
     "ename": "AttributeError",
     "evalue": "'NoneType' object has no attribute 'drop'",
     "output_type": "error",
     "traceback": [
      "\u001b[0;31m---------------------------------------------------------------------------\u001b[0m",
      "\u001b[0;31mAttributeError\u001b[0m                            Traceback (most recent call last)",
      "Cell \u001b[0;32mIn[48], line 1\u001b[0m\n\u001b[0;32m----> 1\u001b[0m cleaning(df_ETH_13_03)\n",
      "Cell \u001b[0;32mIn[41], line 2\u001b[0m, in \u001b[0;36mcleaning\u001b[0;34m(df)\u001b[0m\n\u001b[1;32m      1\u001b[0m \u001b[38;5;28;01mdef\u001b[39;00m \u001b[38;5;21mcleaning\u001b[39m(df):\n\u001b[0;32m----> 2\u001b[0m     df\u001b[38;5;241m.\u001b[39mdrop(columns\u001b[38;5;241m=\u001b[39m[\u001b[38;5;124m'\u001b[39m\u001b[38;5;124m1a. open (EUR)\u001b[39m\u001b[38;5;124m'\u001b[39m, \u001b[38;5;124m'\u001b[39m\u001b[38;5;124m2a. high (EUR)\u001b[39m\u001b[38;5;124m'\u001b[39m, \u001b[38;5;124m'\u001b[39m\u001b[38;5;124m3a. low (EUR)\u001b[39m\u001b[38;5;124m'\u001b[39m, \u001b[38;5;124m'\u001b[39m\u001b[38;5;124m4a. close (EUR)\u001b[39m\u001b[38;5;124m'\u001b[39m], inplace \u001b[38;5;241m=\u001b[39m \u001b[38;5;28;01mTrue\u001b[39;00m)\n\u001b[1;32m      3\u001b[0m     df\u001b[38;5;241m.\u001b[39mrename(columns\u001b[38;5;241m=\u001b[39m{\u001b[38;5;124m\"\u001b[39m\u001b[38;5;124m1b. open (USD)\u001b[39m\u001b[38;5;124m\"\u001b[39m: \u001b[38;5;124m\"\u001b[39m\u001b[38;5;124mOpening Price (USD)\u001b[39m\u001b[38;5;124m\"\u001b[39m, \u001b[38;5;124m\"\u001b[39m\u001b[38;5;124m2b. high (USD)\u001b[39m\u001b[38;5;124m\"\u001b[39m: \u001b[38;5;124m\"\u001b[39m\u001b[38;5;124mHighest Price (USD)\u001b[39m\u001b[38;5;124m\"\u001b[39m, \u001b[38;5;124m\"\u001b[39m\u001b[38;5;124m3b. low (USD)\u001b[39m\u001b[38;5;124m\"\u001b[39m: \u001b[38;5;124m\"\u001b[39m\u001b[38;5;124mLowest Price (USD)\u001b[39m\u001b[38;5;124m\"\u001b[39m, \u001b[38;5;124m\"\u001b[39m\u001b[38;5;124m4b. close (USD)\u001b[39m\u001b[38;5;124m\"\u001b[39m: \u001b[38;5;124m\"\u001b[39m\u001b[38;5;124mClosing Price (USD)\u001b[39m\u001b[38;5;124m\"\u001b[39m}, inplace \u001b[38;5;241m=\u001b[39m \u001b[38;5;28;01mTrue\u001b[39;00m)\n\u001b[1;32m      4\u001b[0m     format_dataframe(df)\n",
      "\u001b[0;31mAttributeError\u001b[0m: 'NoneType' object has no attribute 'drop'"
     ]
    }
   ],
   "source": [
    "cleaning(df_ETH_13_03)"
   ]
  },
  {
   "cell_type": "code",
   "execution_count": 18,
   "id": "3e85d70c",
   "metadata": {},
   "outputs": [],
   "source": [
    "cleaning(df_XRP_13_03)"
   ]
  },
  {
   "cell_type": "code",
   "execution_count": 19,
   "id": "fcee77ad",
   "metadata": {},
   "outputs": [],
   "source": [
    "cleaning(df_DOGE_13_03)"
   ]
  },
  {
   "cell_type": "code",
   "execution_count": 20,
   "id": "b18fbf4c",
   "metadata": {},
   "outputs": [],
   "source": [
    "cleaning(df_UNI_13_03)"
   ]
  },
  {
   "cell_type": "markdown",
   "id": "a25d4a79",
   "metadata": {},
   "source": [
    "# Export to use in MySQL for queries "
   ]
  },
  {
   "cell_type": "code",
   "execution_count": 21,
   "id": "7ba11a39",
   "metadata": {},
   "outputs": [],
   "source": [
    "def exporting_dataframe(df, filename):\n",
    "    df.to_csv(f'{filename}.csv', index=True)"
   ]
  },
  {
   "cell_type": "code",
   "execution_count": 22,
   "id": "d8b03c30",
   "metadata": {},
   "outputs": [],
   "source": [
    "exporting_dataframe(df_BTC, 'BTC_Historical')"
   ]
  },
  {
   "cell_type": "code",
   "execution_count": 23,
   "id": "ce6a35b7",
   "metadata": {},
   "outputs": [],
   "source": [
    "exporting_dataframe(df_ETH, 'ETH_Historical')"
   ]
  },
  {
   "cell_type": "code",
   "execution_count": 24,
   "id": "c17e8f13",
   "metadata": {},
   "outputs": [],
   "source": [
    "exporting_dataframe(df_XRP, 'XRP_Historical')"
   ]
  },
  {
   "cell_type": "code",
   "execution_count": 25,
   "id": "d70ec175",
   "metadata": {},
   "outputs": [],
   "source": [
    "exporting_dataframe(df_DOGE, 'DOGE_Historical')"
   ]
  },
  {
   "cell_type": "code",
   "execution_count": 26,
   "id": "ce1e986d",
   "metadata": {},
   "outputs": [],
   "source": [
    "exporting_dataframe(df_UNI, 'UNI_Historical')"
   ]
  }
 ],
 "metadata": {
  "kernelspec": {
   "display_name": "Python 3 (ipykernel)",
   "language": "python",
   "name": "python3"
  },
  "language_info": {
   "codemirror_mode": {
    "name": "ipython",
    "version": 3
   },
   "file_extension": ".py",
   "mimetype": "text/x-python",
   "name": "python",
   "nbconvert_exporter": "python",
   "pygments_lexer": "ipython3",
   "version": "3.11.5"
  }
 },
 "nbformat": 4,
 "nbformat_minor": 5
}

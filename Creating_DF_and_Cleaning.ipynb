{
 "cells": [
  {
   "cell_type": "code",
   "execution_count": 30,
   "id": "4d2238da",
   "metadata": {},
   "outputs": [],
   "source": [
    "import requests\n",
    "import pandas as pd\n",
    "import matplotlib.pyplot as plt\n",
    "import seaborn as sns\n",
    "import numpy as np\n",
    "import datetime\n",
    "import getpass\n",
    "from sklearn.model_selection import train_test_split\n",
    "from sklearn.ensemble import RandomForestRegressor\n",
    "from sklearn.metrics import mean_squared_error\n",
    "from datetime import datetime\n"
   ]
  },
  {
   "cell_type": "markdown",
   "id": "70108eef",
   "metadata": {},
   "source": [
    "# Using the API to create a dataframe that will be used to predict the Crypto Market"
   ]
  },
  {
   "cell_type": "code",
   "execution_count": 230,
   "id": "416f68e6",
   "metadata": {},
   "outputs": [
    {
     "name": "stdout",
     "output_type": "stream",
     "text": [
      "Enter your API KEY: ········\n"
     ]
    }
   ],
   "source": [
    "API_KEY = getpass.getpass(\"Enter your API KEY: \")"
   ]
  },
  {
   "cell_type": "code",
   "execution_count": 210,
   "id": "d2e60b89",
   "metadata": {},
   "outputs": [],
   "source": [
    "def fetch_crypto_data(symbol, market):\n",
    "    url = f'https://www.alphavantage.co/query?function=DIGITAL_CURRENCY_DAILY&symbol={symbol}&market={market}&apikey={API_KEY}'\n",
    "    response = requests.get(url)\n",
    "    if response.status_code == 200:\n",
    "        data = response.json()\n",
    "        if 'Time Series (Digital Currency Daily)' in data:\n",
    "            crypto_data = data['Time Series (Digital Currency Daily)']\n",
    "            df = pd.DataFrame(crypto_data).T\n",
    "            df.index = pd.to_datetime(df.index)\n",
    "            df.sort_index(inplace=True)\n",
    "            return df\n",
    "    return None"
   ]
  },
  {
   "cell_type": "code",
   "execution_count": 237,
   "id": "ad1b3e25",
   "metadata": {},
   "outputs": [],
   "source": [
    "df_BTC = fetch_crypto_data('BTC', 'EUR')"
   ]
  },
  {
   "cell_type": "code",
   "execution_count": 239,
   "id": "262bb5c5",
   "metadata": {},
   "outputs": [],
   "source": [
    "df_ETH = fetch_crypto_data('ETH', 'EUR')"
   ]
  },
  {
   "cell_type": "code",
   "execution_count": 240,
   "id": "d093b1eb",
   "metadata": {},
   "outputs": [],
   "source": [
    "df_XRP = fetch_crypto_data('XRP', 'EUR')"
   ]
  },
  {
   "cell_type": "code",
   "execution_count": 241,
   "id": "9b9e677d",
   "metadata": {},
   "outputs": [],
   "source": [
    "df_DOGE = fetch_crypto_data('DOGE', 'EUR')"
   ]
  },
  {
   "cell_type": "code",
   "execution_count": 262,
   "id": "55f374a9",
   "metadata": {},
   "outputs": [],
   "source": [
    "df_UNI = fetch_crypto_data('UNI', 'EUR')"
   ]
  },
  {
   "cell_type": "markdown",
   "id": "3ad61fc6",
   "metadata": {},
   "source": [
    "## Cleaning up the Dataframe making it more readable"
   ]
  },
  {
   "cell_type": "code",
   "execution_count": 84,
   "id": "98d8b69f",
   "metadata": {},
   "outputs": [],
   "source": [
    "def format_dataframe(df):\n",
    "    for column in df.columns:\n",
    "        if column.lower() in ['volume', 'market cap (usd)']:\n",
    "            continue  # Skip formatting for these columns\n",
    "        # Format values to have exactly 2 decimal points\n",
    "        df[column] = df[column].apply(lambda x: \"{:.2f}\".format(float(x)))\n",
    "    return df"
   ]
  },
  {
   "cell_type": "code",
   "execution_count": 80,
   "id": "92b0509d",
   "metadata": {},
   "outputs": [],
   "source": [
    "def cleaning(df):\n",
    "    df.drop(columns=['1a. open (EUR)', '2a. high (EUR)', '3a. low (EUR)', '4a. close (EUR)'], inplace = True)\n",
    "    df.rename(columns={\"1b. open (USD)\": \"Opening Price (USD)\", \"2b. high (USD)\": \"Highest Price (USD)\", \"3b. low (USD)\": \"Lowest Price (USD)\", \"4b. close (USD)\": \"Closing Price (USD)\"}, inplace = True)\n",
    "    format_dataframe(df)\n",
    "    formatted_df = format_dataframe(df)    "
   ]
  },
  {
   "cell_type": "code",
   "execution_count": 243,
   "id": "46b2ec1d",
   "metadata": {},
   "outputs": [],
   "source": [
    "cleaning(df_BTC)"
   ]
  },
  {
   "cell_type": "code",
   "execution_count": 244,
   "id": "70b5a6c4",
   "metadata": {},
   "outputs": [],
   "source": [
    "cleaning(df_ETH)"
   ]
  },
  {
   "cell_type": "code",
   "execution_count": 245,
   "id": "3e85d70c",
   "metadata": {},
   "outputs": [],
   "source": [
    "cleaning(df_XRP)"
   ]
  },
  {
   "cell_type": "code",
   "execution_count": 246,
   "id": "fcee77ad",
   "metadata": {},
   "outputs": [],
   "source": [
    "cleaning(df_DOGE)"
   ]
  },
  {
   "cell_type": "code",
   "execution_count": 263,
   "id": "b18fbf4c",
   "metadata": {},
   "outputs": [],
   "source": [
    "cleaning(df_UNI)"
   ]
  },
  {
   "cell_type": "markdown",
   "id": "a25d4a79",
   "metadata": {},
   "source": [
    "# Export to use in MySQL for queries "
   ]
  },
  {
   "cell_type": "code",
   "execution_count": 96,
   "id": "7ba11a39",
   "metadata": {},
   "outputs": [],
   "source": [
    "def exporting_dataframe(df, filename):\n",
    "    df.to_csv(f'{filename}.csv', index=True)"
   ]
  },
  {
   "cell_type": "code",
   "execution_count": 264,
   "id": "d8b03c30",
   "metadata": {},
   "outputs": [],
   "source": [
    "exporting_dataframe(df_BTC, 'BTC_Historical')"
   ]
  },
  {
   "cell_type": "code",
   "execution_count": 265,
   "id": "ce6a35b7",
   "metadata": {},
   "outputs": [],
   "source": [
    "exporting_dataframe(df_ETH, 'ETH_Historical')"
   ]
  },
  {
   "cell_type": "code",
   "execution_count": 266,
   "id": "c17e8f13",
   "metadata": {},
   "outputs": [],
   "source": [
    "exporting_dataframe(df_XRP, 'XRP_Historical')"
   ]
  },
  {
   "cell_type": "code",
   "execution_count": 267,
   "id": "d70ec175",
   "metadata": {},
   "outputs": [],
   "source": [
    "exporting_dataframe(df_DOGE, 'DOGE_Historical')"
   ]
  },
  {
   "cell_type": "code",
   "execution_count": 268,
   "id": "ce1e986d",
   "metadata": {},
   "outputs": [],
   "source": [
    "exporting_dataframe(df_UNI, 'UNI_Historical')"
   ]
  }
 ],
 "metadata": {
  "kernelspec": {
   "display_name": "Python 3 (ipykernel)",
   "language": "python",
   "name": "python3"
  },
  "language_info": {
   "codemirror_mode": {
    "name": "ipython",
    "version": 3
   },
   "file_extension": ".py",
   "mimetype": "text/x-python",
   "name": "python",
   "nbconvert_exporter": "python",
   "pygments_lexer": "ipython3",
   "version": "3.11.5"
  }
 },
 "nbformat": 4,
 "nbformat_minor": 5
}
